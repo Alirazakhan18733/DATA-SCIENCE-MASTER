{
  "nbformat": 4,
  "nbformat_minor": 0,
  "metadata": {
    "colab": {
      "provenance": []
    },
    "kernelspec": {
      "name": "python3",
      "display_name": "Python 3"
    },
    "language_info": {
      "name": "python"
    }
  },
  "cells": [
    {
      "cell_type": "markdown",
      "source": [
        "### DATA SCIENCE MASTER \n",
        "ASSIGNMENT 02\n",
        " \n",
        "30TH JAN PYTHON ASSIGNMENT"
      ],
      "metadata": {
        "id": "U7Cxmw0ST5Gd"
      }
    },
    {
      "cell_type": "markdown",
      "source": [
        "###1. Write a program to accept percentage from the user and display the grade according to the following\n",
        "criteria:\n",
        "  \n",
        "\n",
        "     Marks          Grade\n",
        "    1. >90             A\n",
        "    2.>80 and <=90     B\n",
        "    3.>=60 and <=80    C\n",
        "    4.below 60         D"
      ],
      "metadata": {
        "id": "AiTECXv6x4RP"
      }
    },
    {
      "cell_type": "code",
      "source": [
        "marks=int(input('Enter the marks of the students:'))\n",
        "if marks>90 and marks<=100:\n",
        "  grade='A'\n",
        "  print('The Grade of the Students is',grade)\n",
        "elif marks>=80 and marks<=90:\n",
        "  grade='B'\n",
        "  print('The Grade of the students is:',grade)\n",
        "elif marks>=60 and marks<=80:\n",
        "  grade='C'\n",
        "  print(\"The Grade of the students is: \",grade)\n",
        "elif marks<60:\n",
        "  grade='D'\n",
        "  print(\"The grade of the Students is \",grade)\n",
        "\n"
      ],
      "metadata": {
        "colab": {
          "base_uri": "https://localhost:8080/"
        },
        "id": "m7QSE8I7x9fM",
        "outputId": "1f2bcfa7-27f2-4da0-b804-d47d73399767"
      },
      "execution_count": null,
      "outputs": [
        {
          "output_type": "stream",
          "name": "stdout",
          "text": [
            "Enter the marks of the students:50\n",
            "The grade of the Students is  D\n"
          ]
        }
      ]
    },
    {
      "cell_type": "markdown",
      "source": [
        "2. Write a program to accept the cost price of a bike and display the road tax to be paid according to the Following\n",
        "\n",
        "* criteria:\n",
        "      Tax   Cost\n",
        "      15%   >100000\n",
        "      10%   50000 and <=100000\n",
        "      5%    <=50000"
      ],
      "metadata": {
        "id": "Sq4QbiAR3A0G"
      }
    },
    {
      "cell_type": "code",
      "source": [
        "cost=int(input('Enter the cost of the Bike : '))\n",
        "if cost>=100000:\n",
        "  print(\"The Road tax to be paid:\",format(cost*0.15))\n",
        "elif cost>50000 and cost<=100000:\n",
        "  print(\"The Road tax to be paid : \",format(cost*0.1))\n",
        "elif cost<=50000:\n",
        "  print(f\"The Road tax to be paid : {cost*0.05} \")"
      ],
      "metadata": {
        "colab": {
          "base_uri": "https://localhost:8080/"
        },
        "id": "1jQ8JjC43_dI",
        "outputId": "efd25bdf-bb1f-4cfa-f449-a375b5d49e0a"
      },
      "execution_count": null,
      "outputs": [
        {
          "output_type": "stream",
          "name": "stdout",
          "text": [
            "Enter the cost of the Bike : 20000\n",
            "The Road tax to be paid : 1000.0 \n"
          ]
        }
      ]
    },
    {
      "cell_type": "markdown",
      "source": [
        "3. Accept any city from the user and display the monuments of the city:\n",
        "\n",
        "       City   Monuments\n",
        "       Delhi  Red fort\n",
        "       Agra   Taj Mahal\n",
        "       Jaipur Jal Mamhal"
      ],
      "metadata": {
        "id": "Dj6-QmbD6oXX"
      }
    },
    {
      "cell_type": "code",
      "source": [
        "city=input('''Select the city from below list:\n",
        "[Delhi   Agra   Jaipur]\n",
        "city:''')\n",
        "if city=='Delhi':\n",
        "  print(f'The Monuments of the Delhi is {\"Red Fort\"}')\n",
        "elif city=='Agra':\n",
        "  print(f'The Monuments of the Agra is {\"Taj Mahal\"}')\n",
        "elif city=='Jaipur':\n",
        "  print(f'The monuments of the Jaipur is {\"Jal Mahal\"} ')\n",
        "else:\n",
        "  print(\"Enter the Correct name of the city from given list\")\n",
        "\n"
      ],
      "metadata": {
        "colab": {
          "base_uri": "https://localhost:8080/"
        },
        "id": "mYQst3I77VnI",
        "outputId": "ef7f709c-9832-432f-bcfd-b8a109d0c214"
      },
      "execution_count": null,
      "outputs": [
        {
          "output_type": "stream",
          "name": "stdout",
          "text": [
            "Select the city from below list:\n",
            "[Delhi   Agra   Jaipur]\n",
            "city:Agra\n",
            "The Monuments of the Agra is Taj Mahal\n"
          ]
        }
      ]
    },
    {
      "cell_type": "markdown",
      "source": [
        "4. Check how many times a given number can be divided by 3 before it is less than or equal to 10.\n"
      ],
      "metadata": {
        "id": "V048di3__htt"
      }
    },
    {
      "cell_type": "code",
      "source": [
        "n = int(input(\"Enter a number:\"))\n",
        "count=1\n",
        "if(n%3==0 and n!=10):\n",
        "     count=count+1\n",
        "print(count)"
      ],
      "metadata": {
        "colab": {
          "base_uri": "https://localhost:8080/"
        },
        "id": "6LQ53g1y_-xM",
        "outputId": "82b77b50-5bfc-4d53-d1cf-63d57c0a6be5"
      },
      "execution_count": null,
      "outputs": [
        {
          "output_type": "stream",
          "name": "stdout",
          "text": [
            "Enter a number:10\n",
            "1\n"
          ]
        }
      ]
    },
    {
      "cell_type": "markdown",
      "source": [
        "5. Why and When to Use while Loop in Python give a detailed description with example\n",
        "\n",
        "Ans: A while loop in python allows a part of the code to be executed repeatedly as long as a given condition is true. The while loop in python is also called a pre-tested loop. It is typically used when the number of iterations is not known. A python while loop expression condition consists of three parts:\n",
        "    \n",
        "  1. A piece of code that needs to be repeated over and over\n",
        "  2. The while keyword\n",
        "  3. A condition that translates to either true or false\n"
      ],
      "metadata": {
        "id": "uwBCXgwdRydj"
      }
    },
    {
      "cell_type": "code",
      "source": [
        "n = int(input('enter a number'))\n",
        "i = 1\n",
        "while i <= n :\n",
        "    j = 1\n",
        "    while j <= i:\n",
        "        print(i, end = \" \")\n",
        "        j += 1\n",
        "    print()\n",
        "    i += 1"
      ],
      "metadata": {
        "colab": {
          "base_uri": "https://localhost:8080/"
        },
        "id": "fhDcQSlfSXe_",
        "outputId": "38e5779e-7136-4d6b-8638-096210d4c4cb"
      },
      "execution_count": null,
      "outputs": [
        {
          "output_type": "stream",
          "name": "stdout",
          "text": [
            "enter a number23\n",
            "1 \n",
            "2 2 \n",
            "3 3 3 \n",
            "4 4 4 4 \n",
            "5 5 5 5 5 \n",
            "6 6 6 6 6 6 \n",
            "7 7 7 7 7 7 7 \n",
            "8 8 8 8 8 8 8 8 \n",
            "9 9 9 9 9 9 9 9 9 \n",
            "10 10 10 10 10 10 10 10 10 10 \n",
            "11 11 11 11 11 11 11 11 11 11 11 \n",
            "12 12 12 12 12 12 12 12 12 12 12 12 \n",
            "13 13 13 13 13 13 13 13 13 13 13 13 13 \n",
            "14 14 14 14 14 14 14 14 14 14 14 14 14 14 \n",
            "15 15 15 15 15 15 15 15 15 15 15 15 15 15 15 \n",
            "16 16 16 16 16 16 16 16 16 16 16 16 16 16 16 16 \n",
            "17 17 17 17 17 17 17 17 17 17 17 17 17 17 17 17 17 \n",
            "18 18 18 18 18 18 18 18 18 18 18 18 18 18 18 18 18 18 \n",
            "19 19 19 19 19 19 19 19 19 19 19 19 19 19 19 19 19 19 19 \n",
            "20 20 20 20 20 20 20 20 20 20 20 20 20 20 20 20 20 20 20 20 \n",
            "21 21 21 21 21 21 21 21 21 21 21 21 21 21 21 21 21 21 21 21 21 \n",
            "22 22 22 22 22 22 22 22 22 22 22 22 22 22 22 22 22 22 22 22 22 22 \n",
            "23 23 23 23 23 23 23 23 23 23 23 23 23 23 23 23 23 23 23 23 23 23 23 \n"
          ]
        }
      ]
    },
    {
      "cell_type": "markdown",
      "source": [
        "6. Use nested while loop to print 3 different patterns.\n",
        "\n",
        "Ans:"
      ],
      "metadata": {
        "id": "v14wRMXxSuVv"
      }
    },
    {
      "cell_type": "code",
      "source": [
        "n = int(input('''enter a number'''))\n",
        "i = 1\n",
        "while i <= n :\n",
        "    j = 1\n",
        "    while j <= i:\n",
        "        print(\"*\", end = \" \")\n",
        "        j += 1\n",
        "    print()\n",
        "    i += 1"
      ],
      "metadata": {
        "id": "ZSDVFH4tSfib"
      },
      "execution_count": null,
      "outputs": []
    },
    {
      "cell_type": "code",
      "source": [
        "n = int(input('''enter a number'''))\n",
        "i = 1\n",
        "while i <= n :\n",
        "    j = 1\n",
        "    while j <= i:\n",
        "        print(i, end = \" \")\n",
        "        j += 1\n",
        "    print()\n",
        "    i += 1"
      ],
      "metadata": {
        "id": "0pTtMM08S2Mv"
      },
      "execution_count": null,
      "outputs": []
    },
    {
      "cell_type": "code",
      "source": [
        "n = int(input('''enter a number'''))\n",
        "i = 1\n",
        "while i <= n :\n",
        "    j = 0\n",
        "    while j < i:\n",
        "        print(i+j, end = \" \")\n",
        "        j += 1\n",
        "    print()\n",
        "    i += 1\n"
      ],
      "metadata": {
        "id": "xPg2cacjS6rK"
      },
      "execution_count": null,
      "outputs": []
    },
    {
      "cell_type": "markdown",
      "source": [
        "7. Reverse a while loop to display numbers from 10 to 1."
      ],
      "metadata": {
        "id": "NuYMTOL3S-bs"
      }
    },
    {
      "cell_type": "code",
      "source": [
        "i = 10\n",
        "while i >= 1:\n",
        "    print(i, end = \" \")\n",
        "    i -= 1"
      ],
      "metadata": {
        "colab": {
          "base_uri": "https://localhost:8080/"
        },
        "id": "ZVUFEeiaTAzF",
        "outputId": "30c6266c-7b3d-4c82-cfb6-f925cc69d238"
      },
      "execution_count": null,
      "outputs": [
        {
          "output_type": "stream",
          "name": "stdout",
          "text": [
            "10 9 8 7 6 5 4 3 2 1 "
          ]
        }
      ]
    },
    {
      "cell_type": "markdown",
      "source": [
        "8. Reverse a while loop to display numbers from 10 to 1."
      ],
      "metadata": {
        "id": "5HpfapZSTGpB"
      }
    },
    {
      "cell_type": "code",
      "source": [
        "i = 10\n",
        "while i >= 1:\n",
        "    print(i, end = \" \")\n",
        "    i -= 1"
      ],
      "metadata": {
        "colab": {
          "base_uri": "https://localhost:8080/"
        },
        "id": "iUmBmf5RTBRl",
        "outputId": "1a819bbb-9ac4-4310-b13f-275cafb3afe3"
      },
      "execution_count": null,
      "outputs": [
        {
          "output_type": "stream",
          "name": "stdout",
          "text": [
            "10 9 8 7 6 5 4 3 2 1 "
          ]
        }
      ]
    }
  ]
}