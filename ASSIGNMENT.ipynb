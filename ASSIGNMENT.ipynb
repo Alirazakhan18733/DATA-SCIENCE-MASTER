{
  "nbformat": 4,
  "nbformat_minor": 0,
  "metadata": {
    "colab": {
      "provenance": [],
      "mount_file_id": "120sM0JKBzukFNtk44Z498JYWdZFk_406",
      "authorship_tag": "ABX9TyNaBAEfkRur5G0WvNirW78t",
      "include_colab_link": true
    },
    "kernelspec": {
      "name": "python3",
      "display_name": "Python 3"
    },
    "language_info": {
      "name": "python"
    }
  },
  "cells": [
    {
      "cell_type": "markdown",
      "metadata": {
        "id": "view-in-github",
        "colab_type": "text"
      },
      "source": [
        "<a href=\"https://colab.research.google.com/github/Alirazakhan18733/DATA-SCIENCE-MASTER/blob/main/ASSIGNMENT.ipynb\" target=\"_parent\"><img src=\"https://colab.research.google.com/assets/colab-badge.svg\" alt=\"Open In Colab\"/></a>"
      ]
    },
    {
      "cell_type": "markdown",
      "source": [
        "##Data Science Master's\n",
        "###Assignment-1\n",
        "###29th january 2023\n",
        "1. Who developed the python programming language?\n",
        "\n",
        "* Ans: Guido Van Rossum developed python programming language.\n",
        "\n",
        "2. Which type of programming does python support?\n",
        "\n",
        "* Ans: python supports object oriented programming and structured   programming.\n",
        "\n",
        "3. Is python case sensitive when dealing with identifiers?\n",
        "\n",
        "* Ans: Yes python is case sensitive when dealing with identifiers.\n",
        "\n",
        "4. What is the correct extension of the python file?\n",
        "\n",
        "* Ans: .py is the correct extension of the python file.\n",
        "\n",
        "5. Is python code compiled or interpreted?\n",
        "\n",
        "* Ans: Yes python code compiled or interpreted.\n",
        "\n",
        "\n"
      ],
      "metadata": {
        "id": "_pZLMVoVPpxp"
      }
    },
    {
      "cell_type": "code",
      "source": [
        "##6. Name a few blocks of code used to define in the python language?\n",
        "\n",
        "name = 'Alex'\n",
        "    \n",
        "if name == 'Alex':\n",
        "    print('Correct Name!!')\n",
        "else:\n",
        "\tprint('InCorrect Name:(')\n",
        "print('HI')"
      ],
      "metadata": {
        "colab": {
          "base_uri": "https://localhost:8080/"
        },
        "id": "KMI04IC_QU2B",
        "outputId": "1a3c74db-cf75-43c1-c9e7-45e73f453a9c"
      },
      "execution_count": 1,
      "outputs": [
        {
          "output_type": "stream",
          "name": "stdout",
          "text": [
            "Correct Name!!\n",
            "HI\n"
          ]
        }
      ]
    },
    {
      "cell_type": "markdown",
      "source": [
        "7. State a character used to give single line comments in python?\n",
        "\n",
        "* Ans: In python, the # character is used to start a comment.\n",
        "\n",
        "8. Mention function which can help us to find the version of python that we are currently working on?\n",
        "\n",
        "* Ans: The function sys.version can help us to find the version of python that we are currently working on.\n",
        "\n",
        "9. Python support the creation of anonymous function at runtime, using a construct called _______\n",
        "\n",
        "* Ans: Python supports the creation of anonymous functions at runtime, using a construct called “Lambda”.\n",
        "\n",
        "10. What does pip stand for python?\n",
        "\n",
        "* Ans: pip stands for “Preferred installer program” .\n",
        "\n",
        "11. Mention a few built-in functions in python?\n",
        "\n",
        "  * print() function\n",
        "  * type() function\n",
        "  * input() function\n",
        "  * abs() function\n",
        "  * pow() function\n",
        "\n",
        "12. What is the maximum possible length of an identifier in python?\n",
        "\n",
        "* Ans: An identifier can have a maximum length of 79 characters in python.\n",
        "\n",
        "13. What are the benefits of using python?\n",
        "\n",
        "* **Simple to use and understand**\n",
        "\n",
        "* **Free and open source**\n",
        "\n",
        "* **Productivity has increased**\n",
        "\n",
        "* **Interpreted language**\n",
        "\n",
        "* **Extensive library**\n",
        "\n",
        "* **Dynamically typed**\n",
        "\n",
        "* **Portability**\n",
        "\n",
        "* **Supportive community**\n",
        "\n",
        "14. How is memory managed in python?\n",
        "\n",
        "* Ans: memory in python is managed by python private heap space. All python objects and data structures are located in a private heap. The private heap is taken care of by the python interpreter itself, and a programmer doesn’t have access to this private heap.\n",
        "\n",
        "15. How to install python on windows and set path variables?\n",
        "\n",
        "* Ans: Install python from the link https://www.python.org/downloads/ . After this, install it on your PC. Look for the location where PYTHON has been installed on your PC using the following command on your command prompt: cmd python. Then as PYTHON_NAME and paste the copied path. Then look for the path variable, select its value and select edit add a semicolon towards the end of the value if it’s not present and type %PYTHON_HOME%. "
      ],
      "metadata": {
        "id": "oBTXRnhjQaOt"
      }
    },
    {
      "cell_type": "markdown",
      "source": [
        "16. Is indentation reqired in python?\n",
        "\n",
        "* Answer: Python indentation refers to adding white space before a statement to a particular block of code. In another word, all the statements with the same space to the right, belong to the same code block.\n",
        "\n",
        "Example of Python Indentation\n",
        "\n",
        "  * Statement (line 1), if condition (line 2), and statement (last line) belongs to the same block which means that after statement 1, if condition will be executed. and suppose the if condition becomes False then the Python will jump to the last statement for execution.\n",
        "\n",
        "  * The nested if-else belongs to block 2 which means that if nested if becomes False, then Python will execute the statements inside the else condition.\n",
        "  * Statements inside nested if-else belong to block 3 and only one statement will be executed depending on the if-else condition.\n"
      ],
      "metadata": {
        "id": "ccOB5x4XS9J-"
      }
    },
    {
      "cell_type": "code",
      "source": [
        "# Python program showing\n",
        "# indentation\n",
        " \n",
        "site = 'PW'\n",
        " \n",
        "if site == 'PW':\n",
        "    print('Logging on to PWskills...')\n",
        "else:\n",
        "    print('retype the URL.')\n",
        "print('All set !')"
      ],
      "metadata": {
        "colab": {
          "base_uri": "https://localhost:8080/"
        },
        "id": "PEhm1VKuUCfl",
        "outputId": "5486704f-1f9b-480b-8ab0-6cbcd445dd4a"
      },
      "execution_count": 2,
      "outputs": [
        {
          "output_type": "stream",
          "name": "stdout",
          "text": [
            "Logging on to PWskills...\n",
            "All set !\n"
          ]
        }
      ]
    },
    {
      "cell_type": "code",
      "source": [],
      "metadata": {
        "id": "2CZ-1kg8UXYj"
      },
      "execution_count": null,
      "outputs": []
    }
  ]
}