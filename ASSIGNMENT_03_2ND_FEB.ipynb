{
  "nbformat": 4,
  "nbformat_minor": 0,
  "metadata": {
    "colab": {
      "provenance": []
    },
    "kernelspec": {
      "name": "python3",
      "display_name": "Python 3"
    },
    "language_info": {
      "name": "python"
    }
  },
  "cells": [
    {
      "cell_type": "markdown",
      "source": [
        "#### Data Science Master's \n",
        "##### Assignment-3\n",
        "###### Tuple, Set & Dict \n"
      ],
      "metadata": {
        "id": "Xb_AsIrhhFNp"
      }
    },
    {
      "cell_type": "markdown",
      "source": [
        "### Q1. What are the characteristics of the tuples? Is tuple immutable? \n"
      ],
      "metadata": {
        "id": "VI-o5krYhPv1"
      }
    },
    {
      "cell_type": "markdown",
      "source": [
        "Ans:  \n",
        "Tuples are ordered, indexed collections of data. Similar to string indices, the first value in the tuple will have the index [0], the second value [1], and so on. \n",
        " 1. Tuples can store duplicate values.\n",
        " 2. Once data is assigned to a tuple, the values cannot be changed.\n",
        " 3. Tuples allow you to store several data items in one variable. You can choose to store     only one kind of data in a tuple or mix it up as needed.\n",
        " 4. Yes, tuples are immutable.\n"
      ],
      "metadata": {
        "id": "LH9c1AgnhZ27"
      }
    },
    {
      "cell_type": "markdown",
      "source": [
        "### Q2. What are the two tuple methods in python? Give an example of each method. Give a reason why  tuples have only two in-built methods as compared to Lists. \n"
      ],
      "metadata": {
        "id": "T4peLZMohiOw"
      }
    },
    {
      "cell_type": "code",
      "execution_count": null,
      "metadata": {
        "id": "IGIX8DcKgf41"
      },
      "outputs": [],
      "source": []
    },
    {
      "cell_type": "markdown",
      "source": [
        "Ans: In Python, tuples are immutables. Meaning, you cannot change items of a tuple once it is assigned. There are only two tuple methods count() and index() that a tuple object can call.\n",
        "\n",
        "1. The count() method returns the number of times the specified element appears in the tuple\n",
        "  \n",
        "Example:"
      ],
      "metadata": {
        "id": "CO6enFKNhh9l"
      }
    },
    {
      "cell_type": "code",
      "source": [
        "a=(1,8,9,6,2,7,6,3,7,6,6,4,8)\n",
        "print(a.count(6))"
      ],
      "metadata": {
        "colab": {
          "base_uri": "https://localhost:8080/"
        },
        "id": "qepEx8QRhq-6",
        "outputId": "5a2cf595-4664-4c81-97eb-c086e9eb39f8"
      },
      "execution_count": 1,
      "outputs": [
        {
          "output_type": "stream",
          "name": "stdout",
          "text": [
            "4\n"
          ]
        }
      ]
    },
    {
      "cell_type": "markdown",
      "source": [
        "### Q3.  Which collection data types in python do not allow duplicate items? Write a code using a set to remove  duplicates from the given list. \n",
        "##### List = [1, 1, 1, 2, 1, 3, 1, 4, 2, 1, 2, 2, 2, 3, 2, 4, 3, 1, 3, 2, 3, 3, 3, 4, 4, 1, 4, 2, 4, 3, 4, 4] \n",
        "Ans:"
      ],
      "metadata": {
        "id": "3MWiPJIqhwIo"
      }
    },
    {
      "cell_type": "code",
      "source": [
        "List = [1, 1, 1, 2, 1, 3, 1, 4, 2, 1, 2, 2, 2, 3, 2, 4, 3, 1, 3, 2, 3, 3, 3, 4, 4, 1, 4, 2, 4, 3, 4, 4] \n",
        "print(set(List))"
      ],
      "metadata": {
        "colab": {
          "base_uri": "https://localhost:8080/"
        },
        "id": "RZACb6H8htx_",
        "outputId": "55031f91-9666-4010-9a17-7786ba180f5b"
      },
      "execution_count": 2,
      "outputs": [
        {
          "output_type": "stream",
          "name": "stdout",
          "text": [
            "{1, 2, 3, 4}\n"
          ]
        }
      ]
    },
    {
      "cell_type": "markdown",
      "source": [
        "### Q4. Explain the difference between the union() and update() methods for a set. Give an example of  each method. \n",
        "Ans:   "
      ],
      "metadata": {
        "id": "9203dmtJhwYA"
      }
    },
    {
      "cell_type": "markdown",
      "source": [
        "1. Union()\n",
        "\n",
        "Union() return a set that contains all items from both sets, duplicates are excluded.\n",
        "Syntax:\n",
        "set.union(set1, set2...)\n",
        "\n",
        "\n",
        "Example:\n"
      ],
      "metadata": {
        "id": "BRR7KcT7hwiy"
      }
    },
    {
      "cell_type": "code",
      "source": [
        "x = {\"a\", \"b\", \"c\"}\n",
        "y = {\"f\", \"d\", \"a\"}\n",
        "z = {\"c\", \"d\", \"e\"}\n",
        "\n",
        "\n",
        "result = x.union(y, z) \n",
        "\n",
        "\n",
        "print(result)\n"
      ],
      "metadata": {
        "colab": {
          "base_uri": "https://localhost:8080/"
        },
        "id": "WQfLIVlCiJIS",
        "outputId": "bb5c3d81-3b97-4995-8fe1-d184394d2a3c"
      },
      "execution_count": 3,
      "outputs": [
        {
          "output_type": "stream",
          "name": "stdout",
          "text": [
            "{'a', 'e', 'f', 'b', 'd', 'c'}\n"
          ]
        }
      ]
    },
    {
      "cell_type": "markdown",
      "source": [
        "2. update() \n",
        "\n",
        "The update() method updates the current set, by adding items from another set (or any other iterable).\n",
        "If an item is present in both sets, only one appearance of this item will be present in the updated set.\n",
        "Syntax:\n",
        "set.update(set)\n",
        "\n",
        "Example:"
      ],
      "metadata": {
        "id": "3fFLfjKJiRwR"
      }
    },
    {
      "cell_type": "code",
      "source": [
        "x = {\"apple\", \"banana\", \"cherry\"}\n",
        "y = {\"google\", \"microsoft\", \"apple\"}\n",
        "x.update(y)\n",
        "print(x)"
      ],
      "metadata": {
        "colab": {
          "base_uri": "https://localhost:8080/"
        },
        "id": "Hw0h0BBMiMpf",
        "outputId": "f77075b1-9c9b-4e72-b82e-942f1a4011c2"
      },
      "execution_count": 4,
      "outputs": [
        {
          "output_type": "stream",
          "name": "stdout",
          "text": [
            "{'apple', 'cherry', 'microsoft', 'google', 'banana'}\n"
          ]
        }
      ]
    },
    {
      "cell_type": "markdown",
      "source": [
        "### Q5. What is a dictionary? Give an example. Also, state whether a dictionary is ordered or unordered. \n",
        "\n",
        "Ans: Dictionaries are used to store data values in key:value pairs.\n",
        "A dictionary is a collection which is ordered, changeable and do not allow duplicates.\n",
        "\n",
        "Dictionary is an ordered collection.\n"
      ],
      "metadata": {
        "id": "5GfTZwNrifTg"
      }
    },
    {
      "cell_type": "code",
      "source": [
        "a= {\n",
        "  \"name\": \"riya wagh\",\n",
        "  \"course\": \"Data Science Master’s\",\n",
        "  \"Date of joining\": '''28-jan-2023'''\n",
        "}\n",
        "print(a)"
      ],
      "metadata": {
        "colab": {
          "base_uri": "https://localhost:8080/"
        },
        "id": "f8Yh-MSuicCm",
        "outputId": "fe3124d2-bb67-46c1-8fe0-c35fe3bae8ac"
      },
      "execution_count": 5,
      "outputs": [
        {
          "output_type": "stream",
          "name": "stdout",
          "text": [
            "{'name': 'riya wagh', 'course': 'Data Science Master’s', 'Date of joining': '28-jan-2023'}\n"
          ]
        }
      ]
    },
    {
      "cell_type": "markdown",
      "source": [
        "### Q6. Can we create a nested dictionary? If so, please give an example by creating a simple one-level  nested dictionary. \n",
        "\n",
        "Ans: Nesting Dictionary means putting a dictionary inside another dictionary.\n",
        "Yes, we can create a nested dictionary.\n",
        "\n",
        "Example:\n"
      ],
      "metadata": {
        "id": "j3JmbUGHin8G"
      }
    },
    {
      "cell_type": "code",
      "source": [
        "nested_dict = { 'dict1': {'key_A': 'value_A'},\n",
        "                'dict2': {'key_B': 'value_B'}}\n",
        "nested_dict"
      ],
      "metadata": {
        "colab": {
          "base_uri": "https://localhost:8080/"
        },
        "id": "KeaHkFBlikxp",
        "outputId": "7a6a9598-a52e-41b3-8025-70d3e212a23d"
      },
      "execution_count": 6,
      "outputs": [
        {
          "output_type": "execute_result",
          "data": {
            "text/plain": [
              "{'dict1': {'key_A': 'value_A'}, 'dict2': {'key_B': 'value_B'}}"
            ]
          },
          "metadata": {},
          "execution_count": 6
        }
      ]
    },
    {
      "cell_type": "markdown",
      "source": [
        "### Q7. Using setdefault() method, create key named topics in the given dictionary and also add the value of  the key as this list \n",
        "['Python', 'Machine Learning’, 'Deep Learning'] \n",
        "### dict1 = {'language' : 'Python', 'course': 'Data Science Masters'} \n",
        "Ans:\n"
      ],
      "metadata": {
        "id": "agS6QE9_i1EA"
      }
    },
    {
      "cell_type": "code",
      "source": [
        "dict1 = {'language' : 'Python', 'course': 'Data Science Masters'}\n",
        "dict1.setdefault(\"topics\" , [\"Python\", \"Machine Learning\", \"Deep Learning\"])\n",
        "print(dict1)"
      ],
      "metadata": {
        "colab": {
          "base_uri": "https://localhost:8080/"
        },
        "id": "UKXm9c9iixp3",
        "outputId": "56749ba0-fa8b-4ac2-d075-3f7f9d021745"
      },
      "execution_count": 7,
      "outputs": [
        {
          "output_type": "stream",
          "name": "stdout",
          "text": [
            "{'language': 'Python', 'course': 'Data Science Masters', 'topics': ['Python', 'Machine Learning', 'Deep Learning']}\n"
          ]
        }
      ]
    },
    {
      "cell_type": "markdown",
      "source": [
        "### Q8. What are the three view objects in dictionaries? Use the three in-built methods in python to display  these three view objects for the given dictionary. \n",
        "### dict1 = {'Sport': 'Cricket' , 'Teams': ['India', 'Australia', 'England', 'South Africa', 'Sri Lanka', 'New Zealand']} \n",
        "Ans:\n",
        "The main view objects of dictionary in python are keys, values and items.\n",
        "Keys holds all the keys of the dictionary, the values objects holds all the values, whereas the items holds the key-value pairs.\n"
      ],
      "metadata": {
        "id": "8rYu0Sfai1VA"
      }
    },
    {
      "cell_type": "code",
      "source": [
        "dict1 = {'Sport': 'Cricket' , 'Teams': ['India', 'Australia', 'England', 'South Africa', 'Sri Lanka', 'New Zealand']}\n",
        "print(dict1.keys())\n",
        "print(dict1.values())\n",
        "print(dict1.items())"
      ],
      "metadata": {
        "colab": {
          "base_uri": "https://localhost:8080/"
        },
        "id": "DrzKavc-jGtc",
        "outputId": "7d12b52c-dff5-4261-a891-e82146596a04"
      },
      "execution_count": 8,
      "outputs": [
        {
          "output_type": "stream",
          "name": "stdout",
          "text": [
            "dict_keys(['Sport', 'Teams'])\n",
            "dict_values(['Cricket', ['India', 'Australia', 'England', 'South Africa', 'Sri Lanka', 'New Zealand']])\n",
            "dict_items([('Sport', 'Cricket'), ('Teams', ['India', 'Australia', 'England', 'South Africa', 'Sri Lanka', 'New Zealand'])])\n"
          ]
        }
      ]
    },
    {
      "cell_type": "code",
      "source": [],
      "metadata": {
        "id": "_NzBEIJ-jJKJ"
      },
      "execution_count": null,
      "outputs": []
    }
  ]
}