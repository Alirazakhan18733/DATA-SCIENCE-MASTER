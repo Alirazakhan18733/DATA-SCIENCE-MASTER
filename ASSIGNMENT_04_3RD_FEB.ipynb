{
  "nbformat": 4,
  "nbformat_minor": 0,
  "metadata": {
    "colab": {
      "provenance": []
    },
    "kernelspec": {
      "name": "python3",
      "display_name": "Python 3"
    },
    "language_info": {
      "name": "python"
    }
  },
  "cells": [
    {
      "cell_type": "markdown",
      "source": [
        "## Data Science Master's\n",
        "## Assignment-4\n",
        "## Functions Assignments\n",
        "## 3rd Feb 2023 \n"
      ],
      "metadata": {
        "id": "GigRUZvChc--"
      }
    },
    {
      "cell_type": "markdown",
      "source": [
        "### Q1. Which keyword is used to create a function? Create a function to return a list of odd numbers in the range of 1 to 25.\n",
        "\n",
        "Ans: A keyword **def** is used to create a function in python programming.\n",
        "\n",
        "\n",
        "\n"
      ],
      "metadata": {
        "id": "YjYcwSy4hwYz"
      }
    },
    {
      "cell_type": "code",
      "execution_count": null,
      "metadata": {
        "id": "nbbNdgQ7hRQt"
      },
      "outputs": [],
      "source": [
        "def odd(n_1,n_2):\n",
        "  odd_list=[]\n",
        "  for i in range(n_1,n_2+1):\n",
        "    if i%2 !=0 and i!=0:\n",
        "      odd_list.append(i)\n",
        "  return odd_list"
      ]
    },
    {
      "cell_type": "code",
      "source": [
        "odd(1,25)"
      ],
      "metadata": {
        "colab": {
          "base_uri": "https://localhost:8080/"
        },
        "id": "mTozZhzqiwSD",
        "outputId": "cb0408ea-1fca-4587-a8ba-e47ca64b7e80"
      },
      "execution_count": null,
      "outputs": [
        {
          "output_type": "execute_result",
          "data": {
            "text/plain": [
              "[1, 3, 5, 7, 9, 11, 13, 15, 17, 19, 21, 23, 25]"
            ]
          },
          "metadata": {},
          "execution_count": 8
        }
      ]
    },
    {
      "cell_type": "markdown",
      "source": [
        "### **Q2. Why args and kwargs is used in some functions? Create a function each for args and **kwargs to demonstrate their use.**\n",
        "\n",
        "Ans: We can pass a variable number of arguments to a function using special symbols. There are two special symbols:\n",
        "\n",
        "1.   args (Non-Keyword Arguments)\n",
        "2.   **kwargs (Keyword Arguments)\n",
        "\n",
        "\n",
        "***args (Non-Keyword Arguments)**\n",
        "\n",
        "Python has *args which allow us to pass the variable number of non keyword arguments to function.\n",
        "\n",
        "In the function, we should use an asterisk * before the parameter name to pass variable length arguments.The arguments are passed as a tuple and these passed arguments make tuple inside the function with same name as the parameter excluding asterisk *.\n",
        "\n",
        "****kwargs (Keyword Arguments)**\n",
        "\n",
        "Python passes variable length non keyword argument to function using args but we cannot use this to pass keyword argument. For this problem Python has got a solution called *kwargs, it allows us to pass the variable length of keyword arguments to the function.\n",
        "\n",
        "In the function, we use the double asterisk ** before the parameter name to denote this type of argument. The arguments are passed as a dictionary and these arguments make a dictionary inside function with name same as the parameter excluding double asterisk **."
      ],
      "metadata": {
        "id": "kdKA4AtwjxjJ"
      }
    },
    {
      "cell_type": "code",
      "source": [
        "def test1(*arg):\n",
        "    for i in arg:\n",
        "        print(i)\n",
        " "
      ],
      "metadata": {
        "id": "Fx4F7R8bjLbH"
      },
      "execution_count": null,
      "outputs": []
    },
    {
      "cell_type": "code",
      "source": [
        "test1(5,6)"
      ],
      "metadata": {
        "colab": {
          "base_uri": "https://localhost:8080/"
        },
        "id": "a5apcvNElF14",
        "outputId": "e72f6c06-6fa9-4256-b52c-ed168bc291fb"
      },
      "execution_count": null,
      "outputs": [
        {
          "output_type": "stream",
          "name": "stdout",
          "text": [
            "5\n",
            "6\n"
          ]
        }
      ]
    },
    {
      "cell_type": "code",
      "source": [
        "test1(\"Pwskill\",\"PwGate\")"
      ],
      "metadata": {
        "colab": {
          "base_uri": "https://localhost:8080/"
        },
        "id": "NAP4BKBllJs7",
        "outputId": "cbf7b22b-5b95-43f6-f59a-0dc87c6ad2d7"
      },
      "execution_count": null,
      "outputs": [
        {
          "output_type": "stream",
          "name": "stdout",
          "text": [
            "Pwskill\n",
            "PwGate\n"
          ]
        }
      ]
    },
    {
      "cell_type": "code",
      "source": [
        "test1(\"a\",4,[12,434,6,56,54],(32,4,45,77,3),{\"riya\",5,\"r4\"})"
      ],
      "metadata": {
        "colab": {
          "base_uri": "https://localhost:8080/"
        },
        "id": "BeNoR67slY8j",
        "outputId": "5f6adbaa-6d98-44ad-967d-2da6e029dad8"
      },
      "execution_count": null,
      "outputs": [
        {
          "output_type": "stream",
          "name": "stdout",
          "text": [
            "a\n",
            "4\n",
            "[12, 434, 6, 56, 54]\n",
            "(32, 4, 45, 77, 3)\n",
            "{'riya', 5, 'r4'}\n"
          ]
        }
      ]
    },
    {
      "cell_type": "code",
      "source": [
        "def test2(**kwarg):\n",
        "  print(kwarg)"
      ],
      "metadata": {
        "id": "y01KIB6RlttC"
      },
      "execution_count": null,
      "outputs": []
    },
    {
      "cell_type": "code",
      "source": [
        "test2(a=\"3.45\",b=4,c=[12,434,6,56,54],d=(32,4,45,77,3),e={\"rahul\",5,\"r4\"})"
      ],
      "metadata": {
        "colab": {
          "base_uri": "https://localhost:8080/"
        },
        "outputId": "89788c8d-3ff1-4511-9c5a-7a1dd047503f",
        "id": "ejdWd0vumGTo"
      },
      "execution_count": null,
      "outputs": [
        {
          "output_type": "stream",
          "name": "stdout",
          "text": [
            "{'a': '3.45', 'b': 4, 'c': [12, 434, 6, 56, 54], 'd': (32, 4, 45, 77, 3), 'e': {'rahul', 5, 'r4'}}\n"
          ]
        }
      ]
    },
    {
      "cell_type": "markdown",
      "source": [
        "### **Q3. What is an iterator in python? Name the method used to initialise the iterator object and the method used for iteration. Use these methods to print the first five elements of the given list [2, 4, 6, 8, 10, 12, 14, 16, 18, 20].**\n",
        "\n",
        "Ans: Iterator in Python is an object that is used to iterate over iterable objects like lists, tuples, dicts, and sets.\n",
        "\n",
        "The iterator object is initialized using the iter() method. It uses the next() method for iteration.\n",
        "\n",
        "1. iter(): The iter() method is called for the initialization of an iterator. This returns an iterator object\n",
        "\n",
        "2. next(): The next method returns the next value for the iterable. When we use a for loop to traverse any iterable object, internally it uses the iter() method to get an iterator object, which further uses the next() method"
      ],
      "metadata": {
        "id": "Yylfx05JmixU"
      }
    },
    {
      "cell_type": "code",
      "source": [
        "list=[2, 4, 6, 8, 10, 12, 14, 16,  18, 20]\n",
        "print(list)\n",
        "print(\"\\n\")"
      ],
      "metadata": {
        "colab": {
          "base_uri": "https://localhost:8080/"
        },
        "id": "yYRDbQO5nYbB",
        "outputId": "70a1861e-7556-4d0b-89ef-dba1285ff07f"
      },
      "execution_count": null,
      "outputs": [
        {
          "output_type": "stream",
          "name": "stdout",
          "text": [
            "[2, 4, 6, 8, 10, 12, 14, 16, 18, 20]\n",
            "\n",
            "\n"
          ]
        }
      ]
    },
    {
      "cell_type": "code",
      "source": [
        "##using iter()\n",
        "iter(list)\n",
        "for i in iter(list):\n",
        "  print(i)"
      ],
      "metadata": {
        "colab": {
          "base_uri": "https://localhost:8080/"
        },
        "id": "13aflwzssNi2",
        "outputId": "213c6a03-8454-4b9d-85a5-35ce295eb140"
      },
      "execution_count": null,
      "outputs": [
        {
          "output_type": "stream",
          "name": "stdout",
          "text": [
            "2\n",
            "4\n",
            "6\n",
            "8\n",
            "10\n",
            "12\n",
            "14\n",
            "16\n",
            "18\n",
            "20\n"
          ]
        }
      ]
    },
    {
      "cell_type": "code",
      "source": [
        "#next()\n",
        "next(iter(list))\n"
      ],
      "metadata": {
        "colab": {
          "base_uri": "https://localhost:8080/"
        },
        "id": "klZRgUjlsNVZ",
        "outputId": "e47a9b2e-c628-4db5-ef7c-be8de8953385"
      },
      "execution_count": null,
      "outputs": [
        {
          "output_type": "execute_result",
          "data": {
            "text/plain": [
              "2"
            ]
          },
          "metadata": {},
          "execution_count": 43
        }
      ]
    },
    {
      "cell_type": "markdown",
      "source": [
        "### Q4 What is a generator function in python? Why yield keyword is used? Give an example of a generator function.\n",
        "\n",
        "Ans:\n",
        "\n",
        "**Generator-Function:**\n",
        "\n",
        "A generator-function is defined like a normal function, but whenever it needs to generate a value, it does so with the yield keyword rather than return. If the body of a def contains yield, the function automatically becomes a generator function.\n",
        "\n",
        "**Generator-Object :**\n",
        "\n",
        "Generator functions return a generator object. Generator objects are used either by calling the next method on the generator object or using the generator object in a “for in” loop."
      ],
      "metadata": {
        "id": "3WaYKUhkunmO"
      }
    },
    {
      "cell_type": "code",
      "source": [
        "## simple generator function\n",
        "def a_gen(n):\n",
        "    a,b=0,1\n",
        "    for i in range(n):\n",
        "      yield a\n",
        "      a,b=b,a+b"
      ],
      "metadata": {
        "id": "nsfNcE1vqG0y"
      },
      "execution_count": null,
      "outputs": []
    },
    {
      "cell_type": "code",
      "source": [
        "a_gen(10)"
      ],
      "metadata": {
        "colab": {
          "base_uri": "https://localhost:8080/"
        },
        "id": "l77qBEUBvhOl",
        "outputId": "3b7b3ee6-545f-4c30-bd66-a795211b32c6"
      },
      "execution_count": null,
      "outputs": [
        {
          "output_type": "execute_result",
          "data": {
            "text/plain": [
              "<generator object a_gen at 0x7fcc352d5d60>"
            ]
          },
          "metadata": {},
          "execution_count": 51
        }
      ]
    },
    {
      "cell_type": "code",
      "source": [
        "for i in a_gen(10):\n",
        "  print(i) "
      ],
      "metadata": {
        "colab": {
          "base_uri": "https://localhost:8080/"
        },
        "id": "-YDmJWstv9KN",
        "outputId": "8e44ba74-bdb2-4633-dfab-0f9d506ee94b"
      },
      "execution_count": null,
      "outputs": [
        {
          "output_type": "stream",
          "name": "stdout",
          "text": [
            "0\n",
            "1\n",
            "1\n",
            "2\n",
            "3\n",
            "5\n",
            "8\n",
            "13\n",
            "21\n",
            "34\n"
          ]
        }
      ]
    },
    {
      "cell_type": "markdown",
      "source": [
        "### Q5. Create a generator function for prime numbers less than 1000. Use the next() method to print the first 20 prime numbers.\n",
        "\n"
      ],
      "metadata": {
        "id": "mNKm26bXxb8K"
      }
    },
    {
      "cell_type": "code",
      "source": [
        "## Answer\n",
        "def get_primes():\n",
        "    primes = []\n",
        "    for num in range(2, 1000):\n",
        "        for prime in primes:\n",
        "            if num % prime == 0:\n",
        "                break\n",
        "        else:\n",
        "            primes.append(num)\n",
        "            yield num"
      ],
      "metadata": {
        "id": "s1ymCOSlwOnq"
      },
      "execution_count": null,
      "outputs": []
    },
    {
      "cell_type": "code",
      "source": [
        "primes_generator = get_primes()\n",
        "for i in range(20):\n",
        "    print(next(primes_generator))"
      ],
      "metadata": {
        "colab": {
          "base_uri": "https://localhost:8080/"
        },
        "id": "a4KFtPAdrJLO",
        "outputId": "30f3fc36-f428-4f32-d09b-ed579f232cde"
      },
      "execution_count": null,
      "outputs": [
        {
          "output_type": "stream",
          "name": "stdout",
          "text": [
            "2\n",
            "3\n",
            "5\n",
            "7\n",
            "11\n",
            "13\n",
            "17\n",
            "19\n",
            "23\n",
            "29\n",
            "31\n",
            "37\n",
            "41\n",
            "43\n",
            "47\n",
            "53\n",
            "59\n",
            "61\n",
            "67\n",
            "71\n"
          ]
        }
      ]
    },
    {
      "cell_type": "code",
      "source": [],
      "metadata": {
        "id": "Y60D09CZpJi8"
      },
      "execution_count": null,
      "outputs": []
    }
  ]
}