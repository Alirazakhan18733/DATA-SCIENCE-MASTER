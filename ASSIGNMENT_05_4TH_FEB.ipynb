{
  "nbformat": 4,
  "nbformat_minor": 0,
  "metadata": {
    "colab": {
      "provenance": []
    },
    "kernelspec": {
      "name": "python3",
      "display_name": "Python 3"
    },
    "language_info": {
      "name": "python"
    }
  },
  "cells": [
    {
      "cell_type": "markdown",
      "source": [
        "## Data Science Master's\n",
        "## Assignment-5\n",
        "### Function 2 Assignment\n",
        "### 4TH FEB 2023\n"
      ],
      "metadata": {
        "id": "X0atzi_qDjU7"
      }
    },
    {
      "cell_type": "markdown",
      "source": [
        "**###Q1. Create a python program to sort the given list of tuples based on integer value using a lambda function.**\n",
        "\n",
        "**[('Sachin Tendulkar', 34357), ('Ricky Ponting', 27483), ('Jack Kallis', 25534), ('Virat Kohli', 24936)]**"
      ],
      "metadata": {
        "id": "9_JtpRrkDjRJ"
      }
    },
    {
      "cell_type": "code",
      "execution_count": 1,
      "metadata": {
        "colab": {
          "base_uri": "https://localhost:8080/"
        },
        "id": "4vaBfjGqDg0y",
        "outputId": "9fc4f528-093b-45be-f628-b4ecb8130b4c"
      },
      "outputs": [
        {
          "output_type": "stream",
          "name": "stdout",
          "text": [
            "Orignal List \n",
            "\n",
            "<class 'list'>\n",
            "\n",
            " \n",
            "Sorted List \n",
            "\n",
            "[('Virat Kohli', 24936), ('Jack Kallis', 25534), ('Ricky Ponting', 27483), ('Sachin Tendulkar', 34357)]\n",
            "\n",
            " \n"
          ]
        }
      ],
      "source": [
        "A = [('Sachin Tendulkar', 34357), ('Ricky Ponting', 27483), ('Jack Kallis', 25534), ('Virat Kohli', 24936)] \n",
        "print(\"Orignal List \\n\")\n",
        "print(list)\n",
        "print(\"\\n \")\n",
        "A.sort(key = lambda x : x[1])\n",
        "print(\"Sorted List \\n\")\n",
        "print(A)\n",
        "print(\"\\n \")"
      ]
    },
    {
      "cell_type": "markdown",
      "source": [
        "### **Q2. Write a Python Program to find the squares of all the numbers in the given list of integers using lambda and map functions.**\n",
        "**[1, 2, 3, 4, 5, 6, 7, 8, 9, 10]**"
      ],
      "metadata": {
        "id": "tC0tSLgsEmRJ"
      }
    },
    {
      "cell_type": "code",
      "source": [
        "A = [1, 2, 3, 4, 5, 6, 7, 8, 9, 10] \n",
        "B=map(lambda x :  x**2 , A)\n",
        "print(list(B))"
      ],
      "metadata": {
        "colab": {
          "base_uri": "https://localhost:8080/"
        },
        "id": "WO7XxqqAEhZF",
        "outputId": "7c22a89f-6c23-4036-9590-e360cd462073"
      },
      "execution_count": 2,
      "outputs": [
        {
          "output_type": "stream",
          "name": "stdout",
          "text": [
            "[1, 4, 9, 16, 25, 36, 49, 64, 81, 100]\n"
          ]
        }
      ]
    },
    {
      "cell_type": "markdown",
      "source": [
        "### **Q3. Write a python program to convert the given list of integers into a tuple of strings. Use map and lambda functions**\n",
        "\n",
        "**[1, 2, 3, 4, 5, 6, 7, 8, 9, 10]**\n",
        "\n",
        "**Expected output:**\n",
        "\n",
        "**('1', '2', '3', '4', '5', '6', '7', '8', '9', '10')**"
      ],
      "metadata": {
        "id": "42eTrb9pE4tj"
      }
    },
    {
      "cell_type": "code",
      "source": [
        "A =  [1, 2, 3, 4, 5, 6, 7, 8, 9, 10]\n",
        "print(\"Given String : \",end=\"\")\n",
        "print(A)\n",
        "\n",
        "B=list(map(str,A))\n",
        "\n",
        "print(\"Expected String : \",end=\"\")\n",
        "print(B)"
      ],
      "metadata": {
        "colab": {
          "base_uri": "https://localhost:8080/"
        },
        "id": "DxIm43cYE14B",
        "outputId": "49265335-6a45-4e90-b03c-1940a5ddc414"
      },
      "execution_count": 3,
      "outputs": [
        {
          "output_type": "stream",
          "name": "stdout",
          "text": [
            "Given String : [1, 2, 3, 4, 5, 6, 7, 8, 9, 10]\n",
            "Expected String : ['1', '2', '3', '4', '5', '6', '7', '8', '9', '10']\n"
          ]
        }
      ]
    },
    {
      "cell_type": "markdown",
      "source": [
        "### **Q4. Write a python program using reduce function to compute the product of a list containing numbers from 1 to 25.**"
      ],
      "metadata": {
        "id": "Um5SpPrhFVRW"
      }
    },
    {
      "cell_type": "code",
      "source": [
        "from functools import reduce\n",
        "l=[1,2,3,4,5,6,7,8,9,10,11,12,13,14,15,16,17,18,19,20,21,22,23,24,25]\n",
        "reduce(lambda x,y: x*y,l)"
      ],
      "metadata": {
        "colab": {
          "base_uri": "https://localhost:8080/"
        },
        "id": "eZBqo14uFQzj",
        "outputId": "62a00725-b935-442c-a2fd-2d42fe1fcae0"
      },
      "execution_count": 14,
      "outputs": [
        {
          "output_type": "execute_result",
          "data": {
            "text/plain": [
              "15511210043330985984000000"
            ]
          },
          "metadata": {},
          "execution_count": 14
        }
      ]
    },
    {
      "cell_type": "markdown",
      "source": [
        "### **Q5. Write a python program to filter the numbers in a given list that are divisible by 2 and 3 using the filter function.**\n",
        "**[2, 3, 6, 9, 27, 60, 90, 120, 55, 46]**"
      ],
      "metadata": {
        "id": "Mt6s-jFCHg98"
      }
    },
    {
      "cell_type": "code",
      "source": [
        "l = [2, 3, 6, 9, 27, 60, 90, 120, 55, 46] \n",
        "\n",
        "list(filter(lambda x : x%2 == 0 and x%3 == 0 ,l))"
      ],
      "metadata": {
        "colab": {
          "base_uri": "https://localhost:8080/"
        },
        "id": "oxNOaoUXFapV",
        "outputId": "549f584b-4bad-4703-dbbe-e958f7db4b78"
      },
      "execution_count": 16,
      "outputs": [
        {
          "output_type": "execute_result",
          "data": {
            "text/plain": [
              "[6, 60, 90, 120]"
            ]
          },
          "metadata": {},
          "execution_count": 16
        }
      ]
    },
    {
      "cell_type": "markdown",
      "source": [
        "### **Q6. Write a python program to find palindromes in the given list of strings using lambda and filter function.**\n",
        "**['python', 'php', 'aba', 'radar', 'level']**"
      ],
      "metadata": {
        "id": "HgiaYDy-H2oY"
      }
    },
    {
      "cell_type": "code",
      "source": [
        "Z=['python', 'php', 'aba', 'radar', 'level'] \n",
        "print(\"Given list\")\n",
        "print(Z)\n",
        "print(\"\\n\")\n",
        "result = list(filter(lambda x : x == \"\".join(reversed(x)),Z))\n",
        "print(\"List having palindromes\")\n",
        "print(result)"
      ],
      "metadata": {
        "colab": {
          "base_uri": "https://localhost:8080/"
        },
        "id": "8lzHNPcxHpqP",
        "outputId": "0bcc937d-3315-48bd-eafc-04c3e772ac0d"
      },
      "execution_count": 17,
      "outputs": [
        {
          "output_type": "stream",
          "name": "stdout",
          "text": [
            "Given list\n",
            "['python', 'php', 'aba', 'radar', 'level']\n",
            "\n",
            "\n",
            "List having palindromes\n",
            "['php', 'aba', 'radar', 'level']\n"
          ]
        }
      ]
    }
  ]
}