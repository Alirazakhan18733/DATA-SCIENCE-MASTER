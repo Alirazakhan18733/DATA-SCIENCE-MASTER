{
 "cells": [
  {
   "cell_type": "markdown",
   "id": "da6cb2c1-8e08-4f85-a5f8-4ea3a7611996",
   "metadata": {},
   "source": [
    "### LOOPS STATEMENTS\n",
    "1. while\n",
    "2. for loop\n",
    "3. nested loops\n",
    "4. loop control"
   ]
  },
  {
   "cell_type": "code",
   "execution_count": 5,
   "id": "86fe7de8-2095-48bd-8203-0ec4f6f03d80",
   "metadata": {},
   "outputs": [
    {
     "name": "stdout",
     "output_type": "stream",
     "text": [
      "25\n",
      "26\n",
      "27\n",
      "28\n",
      "29\n",
      "30\n",
      "31\n",
      "32\n",
      "33\n",
      "34\n",
      "35\n",
      "36\n",
      "37\n",
      "38\n",
      "39\n",
      "40\n",
      "41\n",
      "42\n",
      "43\n",
      "44\n",
      "45\n",
      "46\n",
      "47\n",
      "48\n",
      "49\n",
      "50\n",
      "51\n",
      "52\n",
      "53\n",
      "54\n",
      "55\n",
      "56\n",
      "57\n",
      "58\n",
      "59\n",
      "60\n",
      "Its time to retire\n"
     ]
    }
   ],
   "source": [
    "# While Loop\n",
    "joining_age=25\n",
    "while joining_age<=60:\n",
    "    print(joining_age)\n",
    "    joining_age=joining_age+1\n",
    "print('Its time to retire')"
   ]
  },
  {
   "cell_type": "code",
   "execution_count": 12,
   "id": "630aba2c-6fb0-4565-b8c1-2df95b9bc770",
   "metadata": {},
   "outputs": [
    {
     "name": "stdout",
     "output_type": "stream",
     "text": [
      "1000\n",
      "900\n",
      "800\n",
      "700\n",
      "600\n",
      "500\n",
      "400\n",
      "300\n",
      "200\n",
      "100\n",
      "Put money in the ATM\n"
     ]
    }
   ],
   "source": [
    "## ATM machine with 1000 rs\n",
    "total_amount=1000\n",
    "while total_amount!=0:\n",
    "    print(total_amount)\n",
    "    total_amount=total_amount-100\n",
    "else:\n",
    "    print(\"Put money in the ATM\")\n",
    "     "
   ]
  },
  {
   "cell_type": "code",
   "execution_count": 14,
   "id": "23327fcc-15c0-4998-8706-7b113871779f",
   "metadata": {},
   "outputs": [
    {
     "data": {
      "text/plain": [
       "list"
      ]
     },
     "execution_count": 14,
     "metadata": {},
     "output_type": "execute_result"
    }
   ],
   "source": [
    "# For loop\n",
    "lst=[\"Ali\",1,22,23,35,56,'apple','banana']\n",
    "type(lst)"
   ]
  },
  {
   "cell_type": "code",
   "execution_count": 15,
   "id": "a410bb43-088e-477e-ac67-5e7dec0adcf0",
   "metadata": {},
   "outputs": [
    {
     "data": {
      "text/plain": [
       "35"
      ]
     },
     "execution_count": 15,
     "metadata": {},
     "output_type": "execute_result"
    }
   ],
   "source": [
    "lst[4]"
   ]
  },
  {
   "cell_type": "code",
   "execution_count": 16,
   "id": "c2b5c665-dbee-43b9-b64b-5fd4700e3e49",
   "metadata": {},
   "outputs": [
    {
     "data": {
      "text/plain": [
       "'Ali'"
      ]
     },
     "execution_count": 16,
     "metadata": {},
     "output_type": "execute_result"
    }
   ],
   "source": [
    "lst[0]"
   ]
  },
  {
   "cell_type": "code",
   "execution_count": 17,
   "id": "c40b6096-a483-4883-b3b7-0801fd3e71dd",
   "metadata": {},
   "outputs": [
    {
     "data": {
      "text/plain": [
       "56"
      ]
     },
     "execution_count": 17,
     "metadata": {},
     "output_type": "execute_result"
    }
   ],
   "source": [
    "lst[5]"
   ]
  },
  {
   "cell_type": "code",
   "execution_count": 20,
   "id": "53d4c723-af7d-4601-8949-e9a2d504e869",
   "metadata": {},
   "outputs": [
    {
     "data": {
      "text/plain": [
       "'apple'"
      ]
     },
     "execution_count": 20,
     "metadata": {},
     "output_type": "execute_result"
    }
   ],
   "source": [
    "lst[6]"
   ]
  },
  {
   "cell_type": "code",
   "execution_count": 21,
   "id": "bd41f0da-9057-4abf-8ac6-591c9ec342e2",
   "metadata": {},
   "outputs": [
    {
     "data": {
      "text/plain": [
       "['Ali', 1, 22, 23, 35, 56, 'apple', 'banana']"
      ]
     },
     "execution_count": 21,
     "metadata": {},
     "output_type": "execute_result"
    }
   ],
   "source": [
    "lst"
   ]
  },
  {
   "cell_type": "code",
   "execution_count": 23,
   "id": "85fb2f31-d04a-4f5c-82d2-ee9e833deff8",
   "metadata": {},
   "outputs": [
    {
     "name": "stdout",
     "output_type": "stream",
     "text": [
      "Ali\n",
      "1\n",
      "22\n",
      "23\n",
      "35\n",
      "56\n",
      "apple\n",
      "banana\n"
     ]
    }
   ],
   "source": [
    "for a in lst:\n",
    "    print(a)"
   ]
  },
  {
   "cell_type": "code",
   "execution_count": 44,
   "id": "71005fad-dc2e-422f-b302-edd3d64da7d2",
   "metadata": {},
   "outputs": [],
   "source": [
    "fruits_list=['Mango',\"Cherry\",\"Apple\",\"Papaya\",\"Banana\"]"
   ]
  },
  {
   "cell_type": "code",
   "execution_count": 45,
   "id": "46ee93c1-61ea-46a3-b82e-982f4d0b90eb",
   "metadata": {},
   "outputs": [
    {
     "name": "stdout",
     "output_type": "stream",
     "text": [
      "Mango\n",
      "Cherry\n",
      "Apple\n",
      "Papaya\n",
      "Banana\n"
     ]
    }
   ],
   "source": [
    "for a in fruits_list:\n",
    "    print(a)"
   ]
  },
  {
   "cell_type": "code",
   "execution_count": 30,
   "id": "d7507a1b-63ab-4ad2-84ac-2218bb4eb704",
   "metadata": {},
   "outputs": [
    {
     "name": "stdout",
     "output_type": "stream",
     "text": [
      "m\n",
      "a\n",
      "n\n",
      "g\n",
      "o\n"
     ]
    }
   ],
   "source": [
    "fruit='mango'\n",
    "for x in fruit:\n",
    "    print(x)"
   ]
  },
  {
   "cell_type": "code",
   "execution_count": 31,
   "id": "61f7d166-4ff4-4278-81ac-3d042753bffb",
   "metadata": {},
   "outputs": [
    {
     "data": {
      "text/plain": [
       "'g'"
      ]
     },
     "execution_count": 31,
     "metadata": {},
     "output_type": "execute_result"
    }
   ],
   "source": [
    "fruit[3]"
   ]
  },
  {
   "cell_type": "code",
   "execution_count": 35,
   "id": "a1f0156a-43b2-4124-8812-480df32e03eb",
   "metadata": {},
   "outputs": [
    {
     "name": "stdout",
     "output_type": "stream",
     "text": [
      "1\n",
      "2\n",
      "3\n",
      "4\n",
      "5\n",
      "6\n"
     ]
    }
   ],
   "source": [
    "## NESTED LOOPS\n",
    "n=7\n",
    "for i in range(1,n):\n",
    "    print(i)\n"
   ]
  },
  {
   "cell_type": "code",
   "execution_count": 34,
   "id": "19463740-0b46-4a22-8b60-cbe976d9a5e6",
   "metadata": {},
   "outputs": [
    {
     "name": "stdout",
     "output_type": "stream",
     "text": [
      "1\n",
      "3\n",
      "5\n",
      "7\n",
      "9\n"
     ]
    }
   ],
   "source": [
    "#Range\n",
    "for i in range(1,10,2):\n",
    "    print(i)"
   ]
  },
  {
   "cell_type": "code",
   "execution_count": 38,
   "id": "c867921a-acba-448e-884f-6254c9d7a322",
   "metadata": {},
   "outputs": [
    {
     "name": "stdout",
     "output_type": "stream",
     "text": [
      "*\n",
      "**\n",
      "***\n",
      "****\n",
      "*****\n",
      "******\n",
      "*******\n"
     ]
    }
   ],
   "source": [
    "n=7\n",
    "for i in range(0,n):\n",
    "    for j in range(0,i+1):\n",
    "        print(\"*\",end=\"\")\n",
    "    print(\"\")"
   ]
  },
  {
   "cell_type": "code",
   "execution_count": 42,
   "id": "5d1713de-fff3-4f85-870f-daa5657d7029",
   "metadata": {},
   "outputs": [],
   "source": [
    "## Loop control\n",
    "## Break and continue\n",
    "\n",
    "fruits_list=['Mango',\"Cherry\",\"Apple\",\"Papaya\",\"Banana\"]"
   ]
  },
  {
   "cell_type": "code",
   "execution_count": 43,
   "id": "16b8f70a-3a83-455e-91ed-d4619959e3dd",
   "metadata": {},
   "outputs": [
    {
     "name": "stdout",
     "output_type": "stream",
     "text": [
      "Mango\n",
      "Cherry\n",
      "The fruit is Apple\n"
     ]
    }
   ],
   "source": [
    "for i in fruits_list:\n",
    "    if i==\"Apple\":\n",
    "        print(\"The fruit is Apple\")\n",
    "        break\n",
    "    print(i)"
   ]
  },
  {
   "cell_type": "code",
   "execution_count": 46,
   "id": "19f1c119-be19-4bb1-92b8-4a1ffaa834e2",
   "metadata": {},
   "outputs": [
    {
     "name": "stdout",
     "output_type": "stream",
     "text": [
      "Mango\n",
      "Cherry\n",
      "The fruit is Apple\n",
      "Apple\n",
      "Papaya\n",
      "Banana\n"
     ]
    }
   ],
   "source": [
    "for i in fruits_list:\n",
    "    if i==\"Apple\":\n",
    "        print(\"The fruit is Apple\")\n",
    "        pass\n",
    "    print(i)"
   ]
  },
  {
   "cell_type": "code",
   "execution_count": 47,
   "id": "714a5340-77f3-48f3-9ff6-c0f814be4d71",
   "metadata": {},
   "outputs": [
    {
     "name": "stdout",
     "output_type": "stream",
     "text": [
      "Mango\n",
      "Cherry\n",
      "The fruit is Apple\n",
      "Papaya\n",
      "Banana\n"
     ]
    }
   ],
   "source": [
    "for i in fruits_list:\n",
    "    if i==\"Apple\":\n",
    "        print(\"The fruit is Apple\")\n",
    "        continue\n",
    "    print(i)"
   ]
  }
 ],
 "metadata": {
  "kernelspec": {
   "display_name": "Python 3 (ipykernel)",
   "language": "python",
   "name": "python3"
  },
  "language_info": {
   "codemirror_mode": {
    "name": "ipython",
    "version": 3
   },
   "file_extension": ".py",
   "mimetype": "text/x-python",
   "name": "python",
   "nbconvert_exporter": "python",
   "pygments_lexer": "ipython3",
   "version": "3.10.8"
  }
 },
 "nbformat": 4,
 "nbformat_minor": 5
}
