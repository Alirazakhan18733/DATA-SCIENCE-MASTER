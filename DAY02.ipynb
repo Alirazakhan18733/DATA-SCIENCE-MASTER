{
 "cells": [
  {
   "cell_type": "code",
   "execution_count": 26,
   "id": "ed65eb5e-492c-4cec-8957-d18cd5e764a2",
   "metadata": {},
   "outputs": [
    {
     "name": "stdin",
     "output_type": "stream",
     "text": [
      "Enter the price of the product 30\n"
     ]
    },
    {
     "name": "stdout",
     "output_type": "stream",
     "text": [
      "HAVE A NICE DAY\n"
     ]
    }
   ],
   "source": [
    "product_price=int(input('Enter the price of the product'))\n",
    "if product_price<1000 and product_price>=100:\n",
    "    print(f\"The price of the product is {product_price*0.95}\")\n",
    "elif product_price>=1000 and product_price<=2000:\n",
    "    print(f\"The price of the product is {product_price*0.8}\")\n",
    "elif product_price>2000 and product_price<=3000:\n",
    "    if product_price==2999:\n",
    "        print(\"Congratulations you get gift hamper\")\n",
    "    print(f\"The price of the product is {product_price*0.7}\")\n",
    "elif product_price>3000 and product_price>5000:\n",
    "    if product_price==3999:\n",
    "        print(\"congratulation You got a GOA trip\")\n",
    "    print(f\"The price of the product is {product_price*0.6}\")\n",
    "else:\n",
    "    print('HAVE A NICE DAY')"
   ]
  },
  {
   "cell_type": "code",
   "execution_count": 7,
   "id": "58cf92a7-ba7d-48e8-a47b-a3a8fcf4f6e2",
   "metadata": {},
   "outputs": [
    {
     "data": {
      "text/plain": [
       "960"
      ]
     },
     "execution_count": 7,
     "metadata": {},
     "output_type": "execute_result"
    }
   ],
   "source": [
    "1200-240"
   ]
  },
  {
   "cell_type": "code",
   "execution_count": 13,
   "id": "60380e72-e2e4-463d-a8d9-139287b3d14d",
   "metadata": {},
   "outputs": [
    {
     "data": {
      "text/plain": [
       "2099.2999999999997"
      ]
     },
     "execution_count": 13,
     "metadata": {},
     "output_type": "execute_result"
    }
   ],
   "source": [
    "2999*0.7"
   ]
  },
  {
   "cell_type": "code",
   "execution_count": 19,
   "id": "587a7a0f-2642-4729-8efe-008cfb5227ce",
   "metadata": {},
   "outputs": [
    {
     "data": {
      "text/plain": [
       "0.95"
      ]
     },
     "execution_count": 19,
     "metadata": {},
     "output_type": "execute_result"
    }
   ],
   "source": [
    "40*"
   ]
  },
  {
   "cell_type": "code",
   "execution_count": null,
   "id": "446d4595-6246-40dd-8787-25fcb20caca8",
   "metadata": {},
   "outputs": [],
   "source": []
  }
 ],
 "metadata": {
  "kernelspec": {
   "display_name": "Python 3 (ipykernel)",
   "language": "python",
   "name": "python3"
  },
  "language_info": {
   "codemirror_mode": {
    "name": "ipython",
    "version": 3
   },
   "file_extension": ".py",
   "mimetype": "text/x-python",
   "name": "python",
   "nbconvert_exporter": "python",
   "pygments_lexer": "ipython3",
   "version": "3.10.8"
  }
 },
 "nbformat": 4,
 "nbformat_minor": 5
}
