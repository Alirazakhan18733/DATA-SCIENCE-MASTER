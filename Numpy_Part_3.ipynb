{
  "nbformat": 4,
  "nbformat_minor": 0,
  "metadata": {
    "colab": {
      "provenance": [],
      "name": "Numpy_Part_3.ipynb",
      "authorship_tag": "ABX9TyMgV5/DYNzfGi8pEYgKBnUp",
      "include_colab_link": true
    },
    "kernelspec": {
      "name": "python3",
      "display_name": "Python 3"
    },
    "language_info": {
      "name": "python"
    }
  },
  "cells": [
    {
      "cell_type": "markdown",
      "metadata": {
        "id": "view-in-github",
        "colab_type": "text"
      },
      "source": [
        "<a href=\"https://colab.research.google.com/github/Alirazakhan18733/DATA-SCIENCE-MASTER/blob/main/Numpy_Part_3.ipynb\" target=\"_parent\"><img src=\"https://colab.research.google.com/assets/colab-badge.svg\" alt=\"Open In Colab\"/></a>"
      ]
    },
    {
      "cell_type": "code",
      "execution_count": null,
      "metadata": {
        "id": "0mGng-gkIXfL"
      },
      "outputs": [],
      "source": [
        "import numpy as np"
      ]
    },
    {
      "cell_type": "markdown",
      "source": [
        "### Array Manipulation"
      ],
      "metadata": {
        "id": "LscbSLF6Ihl6"
      }
    },
    {
      "cell_type": "code",
      "source": [
        "arr=np.random.randint(1,10,(4,4))"
      ],
      "metadata": {
        "id": "lQpSvOPfIgQ5"
      },
      "execution_count": null,
      "outputs": []
    },
    {
      "cell_type": "code",
      "source": [
        "arr"
      ],
      "metadata": {
        "colab": {
          "base_uri": "https://localhost:8080/"
        },
        "id": "OCHjnI_OIuQO",
        "outputId": "12bcd1e9-ebb0-4ccd-b2a6-0ebea278ff54"
      },
      "execution_count": null,
      "outputs": [
        {
          "output_type": "execute_result",
          "data": {
            "text/plain": [
              "array([[4, 5, 9, 2],\n",
              "       [6, 3, 3, 3],\n",
              "       [1, 8, 4, 4],\n",
              "       [3, 8, 9, 1]])"
            ]
          },
          "metadata": {},
          "execution_count": 7
        }
      ]
    },
    {
      "cell_type": "code",
      "source": [
        "arr.reshape(8,2)"
      ],
      "metadata": {
        "colab": {
          "base_uri": "https://localhost:8080/"
        },
        "id": "sC2OlBo5Iyki",
        "outputId": "212ee0f4-3307-4408-af1b-0831d8a1903e"
      },
      "execution_count": null,
      "outputs": [
        {
          "output_type": "execute_result",
          "data": {
            "text/plain": [
              "array([[4, 5],\n",
              "       [9, 2],\n",
              "       [6, 3],\n",
              "       [3, 3],\n",
              "       [1, 8],\n",
              "       [4, 4],\n",
              "       [3, 8],\n",
              "       [9, 1]])"
            ]
          },
          "metadata": {},
          "execution_count": 8
        }
      ]
    },
    {
      "cell_type": "code",
      "source": [
        "arr"
      ],
      "metadata": {
        "colab": {
          "base_uri": "https://localhost:8080/"
        },
        "id": "7Ziu9aunJC50",
        "outputId": "50fdd7ea-d609-4d8c-bf4f-c39f038b52e6"
      },
      "execution_count": null,
      "outputs": [
        {
          "output_type": "execute_result",
          "data": {
            "text/plain": [
              "array([[4, 5, 9, 2],\n",
              "       [6, 3, 3, 3],\n",
              "       [1, 8, 4, 4],\n",
              "       [3, 8, 9, 1]])"
            ]
          },
          "metadata": {},
          "execution_count": 9
        }
      ]
    },
    {
      "cell_type": "code",
      "source": [
        "arr.T"
      ],
      "metadata": {
        "colab": {
          "base_uri": "https://localhost:8080/"
        },
        "id": "aEARl6_pJFGh",
        "outputId": "f40a12c3-95f0-41dc-94a8-edabbcccb797"
      },
      "execution_count": null,
      "outputs": [
        {
          "output_type": "execute_result",
          "data": {
            "text/plain": [
              "array([[4, 6, 1, 3],\n",
              "       [5, 3, 8, 8],\n",
              "       [9, 3, 4, 9],\n",
              "       [2, 3, 4, 1]])"
            ]
          },
          "metadata": {},
          "execution_count": 10
        }
      ]
    },
    {
      "cell_type": "code",
      "source": [
        "arr.flatten()"
      ],
      "metadata": {
        "colab": {
          "base_uri": "https://localhost:8080/"
        },
        "id": "5MHAvDXKJGP8",
        "outputId": "2fbd66c7-717c-4572-e1bf-85649288b37e"
      },
      "execution_count": null,
      "outputs": [
        {
          "output_type": "execute_result",
          "data": {
            "text/plain": [
              "array([4, 5, 9, 2, 6, 3, 3, 3, 1, 8, 4, 4, 3, 8, 9, 1])"
            ]
          },
          "metadata": {},
          "execution_count": 11
        }
      ]
    },
    {
      "cell_type": "code",
      "source": [
        "arr"
      ],
      "metadata": {
        "colab": {
          "base_uri": "https://localhost:8080/"
        },
        "id": "n1NESWXJJLTL",
        "outputId": "5da67ca9-d9f8-4641-f1d4-743ed0669ae5"
      },
      "execution_count": null,
      "outputs": [
        {
          "output_type": "execute_result",
          "data": {
            "text/plain": [
              "array([[4, 5, 9, 2],\n",
              "       [6, 3, 3, 3],\n",
              "       [1, 8, 4, 4],\n",
              "       [3, 8, 9, 1]])"
            ]
          },
          "metadata": {},
          "execution_count": 12
        }
      ]
    },
    {
      "cell_type": "code",
      "source": [
        "np.expand_dims(arr,axis=1)"
      ],
      "metadata": {
        "colab": {
          "base_uri": "https://localhost:8080/"
        },
        "id": "Qgps8C6lJPVE",
        "outputId": "5b501237-0a91-4c08-f00d-153c0b705612"
      },
      "execution_count": null,
      "outputs": [
        {
          "output_type": "execute_result",
          "data": {
            "text/plain": [
              "array([[[4, 5, 9, 2]],\n",
              "\n",
              "       [[6, 3, 3, 3]],\n",
              "\n",
              "       [[1, 8, 4, 4]],\n",
              "\n",
              "       [[3, 8, 9, 1]]])"
            ]
          },
          "metadata": {},
          "execution_count": 13
        }
      ]
    },
    {
      "cell_type": "code",
      "source": [
        "np.expand_dims(arr,axis=0)\n"
      ],
      "metadata": {
        "colab": {
          "base_uri": "https://localhost:8080/"
        },
        "id": "5ZlRkJZqJVki",
        "outputId": "0dfa7a4d-a166-47f6-c876-66958a7af382"
      },
      "execution_count": null,
      "outputs": [
        {
          "output_type": "execute_result",
          "data": {
            "text/plain": [
              "array([[[4, 5, 9, 2],\n",
              "        [6, 3, 3, 3],\n",
              "        [1, 8, 4, 4],\n",
              "        [3, 8, 9, 1]]])"
            ]
          },
          "metadata": {},
          "execution_count": 14
        }
      ]
    },
    {
      "cell_type": "code",
      "source": [
        "data=np.array([[1],[2],[3]])"
      ],
      "metadata": {
        "id": "nT41VokOJbsK"
      },
      "execution_count": null,
      "outputs": []
    },
    {
      "cell_type": "code",
      "source": [
        "np.squeeze(data)"
      ],
      "metadata": {
        "colab": {
          "base_uri": "https://localhost:8080/"
        },
        "id": "3-l05lCaJiKv",
        "outputId": "5661d671-347e-44a4-a6ff-01d1586a0521"
      },
      "execution_count": null,
      "outputs": [
        {
          "output_type": "execute_result",
          "data": {
            "text/plain": [
              "array([1, 2, 3])"
            ]
          },
          "metadata": {},
          "execution_count": 16
        }
      ]
    },
    {
      "cell_type": "code",
      "source": [
        "np.repeat(data,4)"
      ],
      "metadata": {
        "colab": {
          "base_uri": "https://localhost:8080/"
        },
        "id": "EC87bDiMJlj2",
        "outputId": "6e7386a8-be5f-4ee6-a940-8ef7b207bcc0"
      },
      "execution_count": null,
      "outputs": [
        {
          "output_type": "execute_result",
          "data": {
            "text/plain": [
              "array([1, 1, 1, 1, 2, 2, 2, 2, 3, 3, 3, 3])"
            ]
          },
          "metadata": {},
          "execution_count": 17
        }
      ]
    },
    {
      "cell_type": "code",
      "source": [
        "np.roll(data,2)"
      ],
      "metadata": {
        "colab": {
          "base_uri": "https://localhost:8080/"
        },
        "id": "pSq2B6WuJoec",
        "outputId": "2f5ad7fc-e7cc-45cd-c2eb-0fbf1f0ee80c"
      },
      "execution_count": null,
      "outputs": [
        {
          "output_type": "execute_result",
          "data": {
            "text/plain": [
              "array([[2],\n",
              "       [3],\n",
              "       [1]])"
            ]
          },
          "metadata": {},
          "execution_count": 18
        }
      ]
    },
    {
      "cell_type": "code",
      "source": [
        "np.diag(np.array([1,2,3,4]))"
      ],
      "metadata": {
        "colab": {
          "base_uri": "https://localhost:8080/"
        },
        "id": "X4E2NV_CJvsp",
        "outputId": "09622569-aa61-473e-c0bb-2df0642816fd"
      },
      "execution_count": null,
      "outputs": [
        {
          "output_type": "execute_result",
          "data": {
            "text/plain": [
              "array([[1, 0, 0, 0],\n",
              "       [0, 2, 0, 0],\n",
              "       [0, 0, 3, 0],\n",
              "       [0, 0, 0, 4]])"
            ]
          },
          "metadata": {},
          "execution_count": 19
        }
      ]
    },
    {
      "cell_type": "markdown",
      "source": [
        "### Binary *Operations*"
      ],
      "metadata": {
        "id": "WAiwb7tpJ9yD"
      }
    },
    {
      "cell_type": "code",
      "source": [
        "arr1 = np.random.randint(1,10,(3,4))\n",
        "arr2 = np.random.randint(1,10,(3,4))"
      ],
      "metadata": {
        "id": "xwLy7H9PJ6ND"
      },
      "execution_count": null,
      "outputs": []
    },
    {
      "cell_type": "code",
      "source": [
        "arr1"
      ],
      "metadata": {
        "colab": {
          "base_uri": "https://localhost:8080/"
        },
        "id": "aHqf9SI9KQR8",
        "outputId": "c4f16980-6ff3-4b37-a9b4-6f68faca103c"
      },
      "execution_count": null,
      "outputs": [
        {
          "output_type": "execute_result",
          "data": {
            "text/plain": [
              "array([[4, 9, 4, 8],\n",
              "       [1, 5, 5, 7],\n",
              "       [8, 6, 5, 5]])"
            ]
          },
          "metadata": {},
          "execution_count": 23
        }
      ]
    },
    {
      "cell_type": "code",
      "source": [
        "arr2"
      ],
      "metadata": {
        "colab": {
          "base_uri": "https://localhost:8080/"
        },
        "id": "We_B07n3KbGT",
        "outputId": "54266c74-484d-48aa-ef8d-bb3f4339fef9"
      },
      "execution_count": null,
      "outputs": [
        {
          "output_type": "execute_result",
          "data": {
            "text/plain": [
              "array([[2, 5, 2, 6],\n",
              "       [1, 7, 8, 1],\n",
              "       [4, 8, 8, 3]])"
            ]
          },
          "metadata": {},
          "execution_count": 24
        }
      ]
    },
    {
      "cell_type": "code",
      "source": [
        "arr1+arr2"
      ],
      "metadata": {
        "colab": {
          "base_uri": "https://localhost:8080/"
        },
        "id": "NrjyU_NZKbv6",
        "outputId": "9f762e9a-200d-4661-b52a-f5cf52b55b1b"
      },
      "execution_count": null,
      "outputs": [
        {
          "output_type": "execute_result",
          "data": {
            "text/plain": [
              "array([[ 6, 14,  6, 14],\n",
              "       [ 2, 12, 13,  8],\n",
              "       [12, 14, 13,  8]])"
            ]
          },
          "metadata": {},
          "execution_count": 25
        }
      ]
    },
    {
      "cell_type": "code",
      "source": [
        "arr1-arr2"
      ],
      "metadata": {
        "colab": {
          "base_uri": "https://localhost:8080/"
        },
        "id": "kOD5GC7GKf-A",
        "outputId": "c617b5ab-b3b7-466d-b993-cbf8b3192980"
      },
      "execution_count": null,
      "outputs": [
        {
          "output_type": "execute_result",
          "data": {
            "text/plain": [
              "array([[ 2,  4,  2,  2],\n",
              "       [ 0, -2, -3,  6],\n",
              "       [ 4, -2, -3,  2]])"
            ]
          },
          "metadata": {},
          "execution_count": 26
        }
      ]
    },
    {
      "cell_type": "code",
      "source": [
        "arr1*arr2"
      ],
      "metadata": {
        "colab": {
          "base_uri": "https://localhost:8080/"
        },
        "id": "oku8aztYKhUW",
        "outputId": "9655ef32-9587-42a3-ccb5-acca81206e24"
      },
      "execution_count": null,
      "outputs": [
        {
          "output_type": "execute_result",
          "data": {
            "text/plain": [
              "array([[ 8, 45,  8, 48],\n",
              "       [ 1, 35, 40,  7],\n",
              "       [32, 48, 40, 15]])"
            ]
          },
          "metadata": {},
          "execution_count": 27
        }
      ]
    },
    {
      "cell_type": "code",
      "source": [
        "arr1/arr2"
      ],
      "metadata": {
        "colab": {
          "base_uri": "https://localhost:8080/"
        },
        "id": "6Yi4P_FoKjBl",
        "outputId": "1ba6c24d-7dce-4463-dc0a-3a7132c221e3"
      },
      "execution_count": null,
      "outputs": [
        {
          "output_type": "execute_result",
          "data": {
            "text/plain": [
              "array([[2.        , 1.8       , 2.        , 1.33333333],\n",
              "       [1.        , 0.71428571, 0.625     , 7.        ],\n",
              "       [2.        , 0.75      , 0.625     , 1.66666667]])"
            ]
          },
          "metadata": {},
          "execution_count": 28
        }
      ]
    },
    {
      "cell_type": "code",
      "source": [
        "arr1**arr2"
      ],
      "metadata": {
        "colab": {
          "base_uri": "https://localhost:8080/"
        },
        "id": "KwbMmtXHKnRk",
        "outputId": "e64765d1-7da1-4493-b5de-8e5e30652ed3"
      },
      "execution_count": null,
      "outputs": [
        {
          "output_type": "execute_result",
          "data": {
            "text/plain": [
              "array([[     16,   59049,      16,  262144],\n",
              "       [      1,   78125,  390625,       7],\n",
              "       [   4096, 1679616,  390625,     125]])"
            ]
          },
          "metadata": {},
          "execution_count": 29
        }
      ]
    },
    {
      "cell_type": "code",
      "source": [
        "~arr1"
      ],
      "metadata": {
        "colab": {
          "base_uri": "https://localhost:8080/"
        },
        "id": "yNg-KJaoKpzf",
        "outputId": "85f6aa47-f2fa-4b79-dd89-0757addd0345"
      },
      "execution_count": null,
      "outputs": [
        {
          "output_type": "execute_result",
          "data": {
            "text/plain": [
              "array([[ -5, -10,  -5,  -9],\n",
              "       [ -2,  -6,  -6,  -8],\n",
              "       [ -9,  -7,  -6,  -6]])"
            ]
          },
          "metadata": {},
          "execution_count": 30
        }
      ]
    },
    {
      "cell_type": "code",
      "source": [
        "arr1"
      ],
      "metadata": {
        "colab": {
          "base_uri": "https://localhost:8080/"
        },
        "id": "Cp90GgllKu3p",
        "outputId": "902fddff-bfbb-4fb3-c7c3-bf04862b9ba7"
      },
      "execution_count": null,
      "outputs": [
        {
          "output_type": "execute_result",
          "data": {
            "text/plain": [
              "array([[4, 9, 4, 8],\n",
              "       [1, 5, 5, 7],\n",
              "       [8, 6, 5, 5]])"
            ]
          },
          "metadata": {},
          "execution_count": 31
        }
      ]
    },
    {
      "cell_type": "code",
      "source": [
        "arr1>arr2"
      ],
      "metadata": {
        "colab": {
          "base_uri": "https://localhost:8080/"
        },
        "id": "H51Cj5aSKwvu",
        "outputId": "56ebfcb8-0743-42d3-8245-94dbaa49fea0"
      },
      "execution_count": null,
      "outputs": [
        {
          "output_type": "execute_result",
          "data": {
            "text/plain": [
              "array([[ True,  True,  True,  True],\n",
              "       [False, False, False,  True],\n",
              "       [ True, False, False,  True]])"
            ]
          },
          "metadata": {},
          "execution_count": 32
        }
      ]
    },
    {
      "cell_type": "markdown",
      "source": [
        "### String *Functions*"
      ],
      "metadata": {
        "id": "FnMNLSkTK7TC"
      }
    },
    {
      "cell_type": "code",
      "source": [
        "arr = np.array([\"sudh\",\"kumar\"])"
      ],
      "metadata": {
        "id": "KFqyE3M4K2_z"
      },
      "execution_count": null,
      "outputs": []
    },
    {
      "cell_type": "code",
      "source": [
        "arr"
      ],
      "metadata": {
        "colab": {
          "base_uri": "https://localhost:8080/"
        },
        "id": "rLl8eWobLLUK",
        "outputId": "ec584f4a-4abe-42c8-8ee0-03ea9e59e3ac"
      },
      "execution_count": null,
      "outputs": [
        {
          "output_type": "execute_result",
          "data": {
            "text/plain": [
              "array(['sudh', 'kumar'], dtype='<U5')"
            ]
          },
          "metadata": {},
          "execution_count": 34
        }
      ]
    },
    {
      "cell_type": "code",
      "source": [
        "np.char.upper(arr)"
      ],
      "metadata": {
        "colab": {
          "base_uri": "https://localhost:8080/"
        },
        "id": "7Yta3X1mLMXR",
        "outputId": "bda8a4d7-a3f2-4ec9-918a-4d19f2528e88"
      },
      "execution_count": null,
      "outputs": [
        {
          "output_type": "execute_result",
          "data": {
            "text/plain": [
              "array(['SUDH', 'KUMAR'], dtype='<U5')"
            ]
          },
          "metadata": {},
          "execution_count": 35
        }
      ]
    },
    {
      "cell_type": "code",
      "source": [
        "np.char.capitalize(arr)"
      ],
      "metadata": {
        "colab": {
          "base_uri": "https://localhost:8080/"
        },
        "id": "DL4NQtc1LSJX",
        "outputId": "af58419f-0822-4315-954f-0f02a1b60ea5"
      },
      "execution_count": null,
      "outputs": [
        {
          "output_type": "execute_result",
          "data": {
            "text/plain": [
              "array(['Sudh', 'Kumar'], dtype='<U5')"
            ]
          },
          "metadata": {},
          "execution_count": 36
        }
      ]
    },
    {
      "cell_type": "code",
      "source": [
        "np.char.title(arr)"
      ],
      "metadata": {
        "colab": {
          "base_uri": "https://localhost:8080/"
        },
        "id": "Rez0e3ChLWSv",
        "outputId": "800405eb-cf26-42a7-ca99-e68ae41ea375"
      },
      "execution_count": null,
      "outputs": [
        {
          "output_type": "execute_result",
          "data": {
            "text/plain": [
              "array(['Sudh', 'Kumar'], dtype='<U5')"
            ]
          },
          "metadata": {},
          "execution_count": 38
        }
      ]
    },
    {
      "cell_type": "markdown",
      "source": [
        "### Mathmatical Functions"
      ],
      "metadata": {
        "id": "iD1EKxTuLfwy"
      }
    },
    {
      "cell_type": "code",
      "source": [
        "arr1"
      ],
      "metadata": {
        "colab": {
          "base_uri": "https://localhost:8080/"
        },
        "id": "PzNa2Qb2LaYa",
        "outputId": "1b504e60-2e9b-4211-d685-9ff0d4be94b9"
      },
      "execution_count": null,
      "outputs": [
        {
          "output_type": "execute_result",
          "data": {
            "text/plain": [
              "array([[4, 9, 4, 8],\n",
              "       [1, 5, 5, 7],\n",
              "       [8, 6, 5, 5]])"
            ]
          },
          "metadata": {},
          "execution_count": 39
        }
      ]
    },
    {
      "cell_type": "code",
      "source": [
        "np.sin(arr1)"
      ],
      "metadata": {
        "colab": {
          "base_uri": "https://localhost:8080/"
        },
        "id": "esKujizpLpdD",
        "outputId": "942bdd9c-324f-4df7-d047-3db89cdb4afe"
      },
      "execution_count": null,
      "outputs": [
        {
          "output_type": "execute_result",
          "data": {
            "text/plain": [
              "array([[-0.7568025 ,  0.41211849, -0.7568025 ,  0.98935825],\n",
              "       [ 0.84147098, -0.95892427, -0.95892427,  0.6569866 ],\n",
              "       [ 0.98935825, -0.2794155 , -0.95892427, -0.95892427]])"
            ]
          },
          "metadata": {},
          "execution_count": 40
        }
      ]
    },
    {
      "cell_type": "code",
      "source": [
        "np.cos(arr1)"
      ],
      "metadata": {
        "colab": {
          "base_uri": "https://localhost:8080/"
        },
        "id": "ck5Ujm88LsGy",
        "outputId": "e574c49e-dc99-4385-e690-98ca8676ff77"
      },
      "execution_count": null,
      "outputs": [
        {
          "output_type": "execute_result",
          "data": {
            "text/plain": [
              "array([[-0.65364362, -0.91113026, -0.65364362, -0.14550003],\n",
              "       [ 0.54030231,  0.28366219,  0.28366219,  0.75390225],\n",
              "       [-0.14550003,  0.96017029,  0.28366219,  0.28366219]])"
            ]
          },
          "metadata": {},
          "execution_count": 42
        }
      ]
    },
    {
      "cell_type": "code",
      "source": [
        "np.tan(arr1)"
      ],
      "metadata": {
        "colab": {
          "base_uri": "https://localhost:8080/"
        },
        "id": "KffI-vhuLt_K",
        "outputId": "fcc2357e-3df7-4eb2-c141-dc0d56e96dca"
      },
      "execution_count": null,
      "outputs": [
        {
          "output_type": "execute_result",
          "data": {
            "text/plain": [
              "array([[ 1.15782128, -0.45231566,  1.15782128, -6.79971146],\n",
              "       [ 1.55740772, -3.38051501, -3.38051501,  0.87144798],\n",
              "       [-6.79971146, -0.29100619, -3.38051501, -3.38051501]])"
            ]
          },
          "metadata": {},
          "execution_count": 43
        }
      ]
    },
    {
      "cell_type": "code",
      "source": [
        "np.log10(arr1)"
      ],
      "metadata": {
        "colab": {
          "base_uri": "https://localhost:8080/"
        },
        "id": "zRWv_Id-LyZz",
        "outputId": "b7bee49b-a216-404e-d939-fe7c2f5d10eb"
      },
      "execution_count": null,
      "outputs": [
        {
          "output_type": "execute_result",
          "data": {
            "text/plain": [
              "array([[0.60205999, 0.95424251, 0.60205999, 0.90308999],\n",
              "       [0.        , 0.69897   , 0.69897   , 0.84509804],\n",
              "       [0.90308999, 0.77815125, 0.69897   , 0.69897   ]])"
            ]
          },
          "metadata": {},
          "execution_count": 44
        }
      ]
    },
    {
      "cell_type": "code",
      "source": [
        "np.exp(arr1)"
      ],
      "metadata": {
        "colab": {
          "base_uri": "https://localhost:8080/"
        },
        "id": "A3swJWBFL2i4",
        "outputId": "62bcb98f-80a5-46fd-cdd2-4905abf35b30"
      },
      "execution_count": null,
      "outputs": [
        {
          "output_type": "execute_result",
          "data": {
            "text/plain": [
              "array([[5.45981500e+01, 8.10308393e+03, 5.45981500e+01, 2.98095799e+03],\n",
              "       [2.71828183e+00, 1.48413159e+02, 1.48413159e+02, 1.09663316e+03],\n",
              "       [2.98095799e+03, 4.03428793e+02, 1.48413159e+02, 1.48413159e+02]])"
            ]
          },
          "metadata": {},
          "execution_count": 45
        }
      ]
    },
    {
      "cell_type": "code",
      "source": [
        "np.power(arr1,2)"
      ],
      "metadata": {
        "colab": {
          "base_uri": "https://localhost:8080/"
        },
        "id": "FunNELkfL5Fw",
        "outputId": "f81bc5f4-420f-4163-8994-fa86dfb91c31"
      },
      "execution_count": null,
      "outputs": [
        {
          "output_type": "execute_result",
          "data": {
            "text/plain": [
              "array([[16, 81, 16, 64],\n",
              "       [ 1, 25, 25, 49],\n",
              "       [64, 36, 25, 25]])"
            ]
          },
          "metadata": {},
          "execution_count": 46
        }
      ]
    },
    {
      "cell_type": "code",
      "source": [
        "np.mean(arr1)"
      ],
      "metadata": {
        "colab": {
          "base_uri": "https://localhost:8080/"
        },
        "id": "ECkCji7dL76w",
        "outputId": "982669c5-593e-4a30-ffc0-77c5506ad064"
      },
      "execution_count": null,
      "outputs": [
        {
          "output_type": "execute_result",
          "data": {
            "text/plain": [
              "5.583333333333333"
            ]
          },
          "metadata": {},
          "execution_count": 48
        }
      ]
    },
    {
      "cell_type": "code",
      "source": [
        "np.median(arr1)"
      ],
      "metadata": {
        "colab": {
          "base_uri": "https://localhost:8080/"
        },
        "id": "zLNJxqQdL-sA",
        "outputId": "2ef1e97b-9d0a-45a1-cacb-078343a1f6c7"
      },
      "execution_count": null,
      "outputs": [
        {
          "output_type": "execute_result",
          "data": {
            "text/plain": [
              "5.0"
            ]
          },
          "metadata": {},
          "execution_count": 49
        }
      ]
    },
    {
      "cell_type": "code",
      "source": [
        "np.std(arr1)"
      ],
      "metadata": {
        "colab": {
          "base_uri": "https://localhost:8080/"
        },
        "id": "N-U91Vs9MDOX",
        "outputId": "a3f98c11-d9ce-4882-f6cc-df91a659e04d"
      },
      "execution_count": null,
      "outputs": [
        {
          "output_type": "execute_result",
          "data": {
            "text/plain": [
              "2.099933861392359"
            ]
          },
          "metadata": {},
          "execution_count": 50
        }
      ]
    },
    {
      "cell_type": "code",
      "source": [
        "np.var(arr1)"
      ],
      "metadata": {
        "colab": {
          "base_uri": "https://localhost:8080/"
        },
        "id": "oHTc4XGHMGLm",
        "outputId": "b3b297a0-77a2-4105-a640-7c5d3ce7ad9a"
      },
      "execution_count": null,
      "outputs": [
        {
          "output_type": "execute_result",
          "data": {
            "text/plain": [
              "4.409722222222222"
            ]
          },
          "metadata": {},
          "execution_count": 51
        }
      ]
    },
    {
      "cell_type": "code",
      "source": [
        "np.min(arr1)"
      ],
      "metadata": {
        "colab": {
          "base_uri": "https://localhost:8080/"
        },
        "id": "X9fHL3R-MIh1",
        "outputId": "ec78abf2-d799-47e6-dcdc-088dd01a357d"
      },
      "execution_count": null,
      "outputs": [
        {
          "output_type": "execute_result",
          "data": {
            "text/plain": [
              "1"
            ]
          },
          "metadata": {},
          "execution_count": 53
        }
      ]
    },
    {
      "cell_type": "code",
      "source": [
        "np.max(arr1)"
      ],
      "metadata": {
        "colab": {
          "base_uri": "https://localhost:8080/"
        },
        "id": "F49AxKDoMKHy",
        "outputId": "f3c1a3aa-3b17-4140-bbc0-8fb0c0e071f3"
      },
      "execution_count": null,
      "outputs": [
        {
          "output_type": "execute_result",
          "data": {
            "text/plain": [
              "9"
            ]
          },
          "metadata": {},
          "execution_count": 54
        }
      ]
    },
    {
      "cell_type": "markdown",
      "source": [
        "### Arithmetic Operations"
      ],
      "metadata": {
        "id": "pWIa9gIfMTtM"
      }
    },
    {
      "cell_type": "code",
      "source": [
        "arr1"
      ],
      "metadata": {
        "colab": {
          "base_uri": "https://localhost:8080/"
        },
        "id": "872IIwflMNpo",
        "outputId": "b1a50aaf-637a-4a26-c031-4b913ccd4ca8"
      },
      "execution_count": null,
      "outputs": [
        {
          "output_type": "execute_result",
          "data": {
            "text/plain": [
              "array([[4, 9, 4, 8],\n",
              "       [1, 5, 5, 7],\n",
              "       [8, 6, 5, 5]])"
            ]
          },
          "metadata": {},
          "execution_count": 55
        }
      ]
    },
    {
      "cell_type": "code",
      "source": [
        "arr2"
      ],
      "metadata": {
        "colab": {
          "base_uri": "https://localhost:8080/"
        },
        "id": "e4gEbjcbMZ2g",
        "outputId": "b4c875bb-50b7-4068-ffa3-88fb0b50f90f"
      },
      "execution_count": null,
      "outputs": [
        {
          "output_type": "execute_result",
          "data": {
            "text/plain": [
              "array([[2, 5, 2, 6],\n",
              "       [1, 7, 8, 1],\n",
              "       [4, 8, 8, 3]])"
            ]
          },
          "metadata": {},
          "execution_count": 56
        }
      ]
    },
    {
      "cell_type": "code",
      "source": [
        "arr1-arr2"
      ],
      "metadata": {
        "colab": {
          "base_uri": "https://localhost:8080/"
        },
        "id": "E04hslaHMad7",
        "outputId": "e908c046-5176-44ff-b179-61d4a5ec3a9b"
      },
      "execution_count": null,
      "outputs": [
        {
          "output_type": "execute_result",
          "data": {
            "text/plain": [
              "array([[ 2,  4,  2,  2],\n",
              "       [ 0, -2, -3,  6],\n",
              "       [ 4, -2, -3,  2]])"
            ]
          },
          "metadata": {},
          "execution_count": 57
        }
      ]
    },
    {
      "cell_type": "code",
      "source": [
        "np.subtract(arr1,arr2)"
      ],
      "metadata": {
        "colab": {
          "base_uri": "https://localhost:8080/"
        },
        "id": "7uOG_0hJMcA4",
        "outputId": "d20e0bb6-bf4d-40e4-9a7b-e01edbd15452"
      },
      "execution_count": null,
      "outputs": [
        {
          "output_type": "execute_result",
          "data": {
            "text/plain": [
              "array([[ 2,  4,  2,  2],\n",
              "       [ 0, -2, -3,  6],\n",
              "       [ 4, -2, -3,  2]])"
            ]
          },
          "metadata": {},
          "execution_count": 58
        }
      ]
    },
    {
      "cell_type": "code",
      "source": [
        "np.multiply(arr1,arr2)"
      ],
      "metadata": {
        "colab": {
          "base_uri": "https://localhost:8080/"
        },
        "id": "s_nVQAt1MfmO",
        "outputId": "d3ea948f-cbda-4e69-c138-8c0eef192176"
      },
      "execution_count": null,
      "outputs": [
        {
          "output_type": "execute_result",
          "data": {
            "text/plain": [
              "array([[ 8, 45,  8, 48],\n",
              "       [ 1, 35, 40,  7],\n",
              "       [32, 48, 40, 15]])"
            ]
          },
          "metadata": {},
          "execution_count": 59
        }
      ]
    },
    {
      "cell_type": "code",
      "source": [
        "np.mod(arr1,arr2)"
      ],
      "metadata": {
        "colab": {
          "base_uri": "https://localhost:8080/"
        },
        "id": "MLG4Ke4cMkL0",
        "outputId": "d189929f-b70d-407c-b62c-940024d293cd"
      },
      "execution_count": null,
      "outputs": [
        {
          "output_type": "execute_result",
          "data": {
            "text/plain": [
              "array([[0, 4, 0, 2],\n",
              "       [0, 5, 5, 0],\n",
              "       [0, 6, 5, 2]])"
            ]
          },
          "metadata": {},
          "execution_count": 60
        }
      ]
    },
    {
      "cell_type": "code",
      "source": [
        "np.power(arr1,arr2)"
      ],
      "metadata": {
        "colab": {
          "base_uri": "https://localhost:8080/"
        },
        "id": "zLgcHxOFMmsk",
        "outputId": "db26a5ca-19fb-45c2-bfb4-c517d5d4084e"
      },
      "execution_count": null,
      "outputs": [
        {
          "output_type": "execute_result",
          "data": {
            "text/plain": [
              "array([[     16,   59049,      16,  262144],\n",
              "       [      1,   78125,  390625,       7],\n",
              "       [   4096, 1679616,  390625,     125]])"
            ]
          },
          "metadata": {},
          "execution_count": 61
        }
      ]
    },
    {
      "cell_type": "code",
      "source": [
        "np.sqrt(arr1)"
      ],
      "metadata": {
        "colab": {
          "base_uri": "https://localhost:8080/"
        },
        "id": "-ZyXqMlUMpZL",
        "outputId": "ce15ae4c-cee4-4068-9a33-a76a913aa40d"
      },
      "execution_count": null,
      "outputs": [
        {
          "output_type": "execute_result",
          "data": {
            "text/plain": [
              "array([[2.        , 3.        , 2.        , 2.82842712],\n",
              "       [1.        , 2.23606798, 2.23606798, 2.64575131],\n",
              "       [2.82842712, 2.44948974, 2.23606798, 2.23606798]])"
            ]
          },
          "metadata": {},
          "execution_count": 62
        }
      ]
    },
    {
      "cell_type": "markdown",
      "source": [
        "### Statistical Functions"
      ],
      "metadata": {
        "id": "Uu1JJnYCMuud"
      }
    },
    {
      "cell_type": "code",
      "source": [
        "arr1"
      ],
      "metadata": {
        "colab": {
          "base_uri": "https://localhost:8080/"
        },
        "id": "uYeTXms1Mtdw",
        "outputId": "4b170ed4-ec87-4ea1-aa56-8b76e17a3834"
      },
      "execution_count": null,
      "outputs": [
        {
          "output_type": "execute_result",
          "data": {
            "text/plain": [
              "array([[4, 9, 4, 8],\n",
              "       [1, 5, 5, 7],\n",
              "       [8, 6, 5, 5]])"
            ]
          },
          "metadata": {},
          "execution_count": 63
        }
      ]
    },
    {
      "cell_type": "code",
      "source": [
        "np.mean(arr1)"
      ],
      "metadata": {
        "colab": {
          "base_uri": "https://localhost:8080/"
        },
        "id": "6MNNYLMBM3fB",
        "outputId": "bdbaa2ee-0dcd-4fd9-9838-84a35b523eb9"
      },
      "execution_count": null,
      "outputs": [
        {
          "output_type": "execute_result",
          "data": {
            "text/plain": [
              "5.583333333333333"
            ]
          },
          "metadata": {},
          "execution_count": 64
        }
      ]
    },
    {
      "cell_type": "code",
      "source": [
        "np.std(arr1)"
      ],
      "metadata": {
        "colab": {
          "base_uri": "https://localhost:8080/"
        },
        "id": "sf-Iowe-M5ZJ",
        "outputId": "6110d292-fe5d-4d3d-cd9f-f40619d963c3"
      },
      "execution_count": null,
      "outputs": [
        {
          "output_type": "execute_result",
          "data": {
            "text/plain": [
              "2.099933861392359"
            ]
          },
          "metadata": {},
          "execution_count": 65
        }
      ]
    },
    {
      "cell_type": "code",
      "source": [
        "np.var(arr1)"
      ],
      "metadata": {
        "colab": {
          "base_uri": "https://localhost:8080/"
        },
        "id": "5gszmpHWM757",
        "outputId": "01441626-1312-4fbf-d673-c46ec687e982"
      },
      "execution_count": null,
      "outputs": [
        {
          "output_type": "execute_result",
          "data": {
            "text/plain": [
              "4.409722222222222"
            ]
          },
          "metadata": {},
          "execution_count": 66
        }
      ]
    },
    {
      "cell_type": "code",
      "source": [
        "np.median(arr1)"
      ],
      "metadata": {
        "colab": {
          "base_uri": "https://localhost:8080/"
        },
        "id": "hov_if4mM_mi",
        "outputId": "15e07d44-e172-4202-d88a-6533a78f070c"
      },
      "execution_count": null,
      "outputs": [
        {
          "output_type": "execute_result",
          "data": {
            "text/plain": [
              "5.0"
            ]
          },
          "metadata": {},
          "execution_count": 67
        }
      ]
    },
    {
      "cell_type": "code",
      "source": [],
      "metadata": {
        "id": "38nwtnvHNDYC"
      },
      "execution_count": null,
      "outputs": []
    }
  ]
}